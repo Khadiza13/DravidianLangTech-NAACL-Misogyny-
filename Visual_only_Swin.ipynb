{
  "metadata": {
    "kernelspec": {
      "language": "python",
      "display_name": "Python 3",
      "name": "python3"
    },
    "language_info": {
      "name": "python",
      "version": "3.10.12",
      "mimetype": "text/x-python",
      "codemirror_mode": {
        "name": "ipython",
        "version": 3
      },
      "pygments_lexer": "ipython3",
      "nbconvert_exporter": "python",
      "file_extension": ".py"
    },
    "kaggle": {
      "accelerator": "nvidiaTeslaT4",
      "dataSources": [
        {
          "sourceId": 10404788,
          "sourceType": "datasetVersion",
          "datasetId": 6447553
        },
        {
          "sourceId": 10404789,
          "sourceType": "datasetVersion",
          "datasetId": 6447554
        },
        {
          "sourceId": 10404793,
          "sourceType": "datasetVersion",
          "datasetId": 6447557
        },
        {
          "sourceId": 10590024,
          "sourceType": "datasetVersion",
          "datasetId": 6554085
        }
      ],
      "dockerImageVersionId": 30840,
      "isInternetEnabled": true,
      "language": "python",
      "sourceType": "notebook",
      "isGpuEnabled": true
    },
    "colab": {
      "name": "Visual_only_Swin",
      "provenance": [],
      "include_colab_link": true
    }
  },
  "nbformat_minor": 0,
  "nbformat": 4,
  "cells": [
    {
      "cell_type": "markdown",
      "metadata": {
        "id": "view-in-github",
        "colab_type": "text"
      },
      "source": [
        "<a href=\"https://colab.research.google.com/github/Khadiza13/DravidianLangTech-NAACL-Misogyny-/blob/main/Visual_only_Swin.ipynb\" target=\"_parent\"><img src=\"https://colab.research.google.com/assets/colab-badge.svg\" alt=\"Open In Colab\"/></a>"
      ]
    },
    {
      "cell_type": "code",
      "source": [
        "import numpy as np\n",
        "import pandas as pd"
      ],
      "metadata": {
        "_uuid": "8f2839f25d086af736a60e9eeb907d3b93b6e0e5",
        "_cell_guid": "b1076dfc-b9ad-4769-8c92-a6c4dae69d19",
        "trusted": true,
        "execution": {
          "iopub.status.busy": "2025-01-27T17:41:14.497389Z",
          "iopub.execute_input": "2025-01-27T17:41:14.49784Z",
          "iopub.status.idle": "2025-01-27T17:41:14.501626Z",
          "shell.execute_reply.started": "2025-01-27T17:41:14.497809Z",
          "shell.execute_reply": "2025-01-27T17:41:14.500655Z"
        },
        "id": "EabbRn6RDmsQ"
      },
      "outputs": [],
      "execution_count": null
    },
    {
      "cell_type": "code",
      "source": [
        "TRAIN_DATA_PATH = '/kaggle/input/train-dataset/train/train.csv'\n",
        "EVAL_DATA_PATH = '/kaggle/input/eval-dataset/dev/dev.csv'\n",
        "TEST_DATA_PATH = '/kaggle/input/test-dataset/test/test.csv'\n",
        "TEST_LABELS_PATH = '/kaggle/input/test-with-labels/test_with_labels/test_with_labels.csv'\n",
        "# Load the training data\n",
        "train_data = pd.read_csv(TRAIN_DATA_PATH)\n",
        "eval_data = pd.read_csv(EVAL_DATA_PATH)\n",
        "test_data = pd.read_csv(TEST_DATA_PATH)\n",
        "test_labels=pd.read_csv(TEST_LABELS_PATH)"
      ],
      "metadata": {
        "trusted": true,
        "execution": {
          "iopub.status.busy": "2025-01-27T17:41:17.293193Z",
          "iopub.execute_input": "2025-01-27T17:41:17.29355Z",
          "iopub.status.idle": "2025-01-27T17:41:17.369438Z",
          "shell.execute_reply.started": "2025-01-27T17:41:17.29352Z",
          "shell.execute_reply": "2025-01-27T17:41:17.368822Z"
        },
        "id": "tvb69bHbDmsR"
      },
      "outputs": [],
      "execution_count": null
    },
    {
      "cell_type": "code",
      "source": [
        "train_label_counts = train_data['labels'].value_counts()\n",
        "eval_label_counts = eval_data['labels'].value_counts()\n",
        "test_label_counts=test_labels['labels'].value_counts()\n",
        "\n",
        "# Display the counts\n",
        "print(\"Training Data Label Distribution:\")\n",
        "print(train_label_counts)\n",
        "\n",
        "print(\"\\nValidation Data Label Distribution:\")\n",
        "print(eval_label_counts)\n",
        "\n",
        "print(\"\\nTest Data Label Distribution:\")\n",
        "print(test_label_counts)"
      ],
      "metadata": {
        "trusted": true,
        "execution": {
          "iopub.status.busy": "2025-01-27T17:41:20.905944Z",
          "iopub.execute_input": "2025-01-27T17:41:20.906235Z",
          "iopub.status.idle": "2025-01-27T17:41:20.925346Z",
          "shell.execute_reply.started": "2025-01-27T17:41:20.906208Z",
          "shell.execute_reply": "2025-01-27T17:41:20.924553Z"
        },
        "id": "WSN-0VntDmsR",
        "outputId": "454aa86d-db60-4637-b83e-53995a39edb5"
      },
      "outputs": [
        {
          "name": "stdout",
          "text": "Training Data Label Distribution:\nlabels\n0    381\n1    259\nName: count, dtype: int64\n\nValidation Data Label Distribution:\nlabels\n0    97\n1    63\nName: count, dtype: int64\n\nTest Data Label Distribution:\nlabels\n0    122\n1     78\nName: count, dtype: int64\n",
          "output_type": "stream"
        }
      ],
      "execution_count": null
    },
    {
      "cell_type": "code",
      "source": [
        "train_data.shape"
      ],
      "metadata": {
        "trusted": true,
        "execution": {
          "iopub.status.busy": "2025-01-27T17:41:24.052091Z",
          "iopub.execute_input": "2025-01-27T17:41:24.052404Z",
          "iopub.status.idle": "2025-01-27T17:41:24.058107Z",
          "shell.execute_reply.started": "2025-01-27T17:41:24.052367Z",
          "shell.execute_reply": "2025-01-27T17:41:24.057165Z"
        },
        "id": "OxU0ATH6DmsS",
        "outputId": "66efc743-8ad1-4264-e159-1284950b25d6"
      },
      "outputs": [
        {
          "execution_count": 5,
          "output_type": "execute_result",
          "data": {
            "text/plain": "(640, 3)"
          },
          "metadata": {}
        }
      ],
      "execution_count": null
    },
    {
      "cell_type": "code",
      "source": [
        "eval_data.shape\n"
      ],
      "metadata": {
        "trusted": true,
        "execution": {
          "iopub.status.busy": "2025-01-27T17:41:26.477549Z",
          "iopub.execute_input": "2025-01-27T17:41:26.477882Z",
          "iopub.status.idle": "2025-01-27T17:41:26.48308Z",
          "shell.execute_reply.started": "2025-01-27T17:41:26.477853Z",
          "shell.execute_reply": "2025-01-27T17:41:26.482214Z"
        },
        "id": "ZSRu3CUzDmsT",
        "outputId": "0641d3c0-0396-403d-fcd0-07d4456de4f3"
      },
      "outputs": [
        {
          "execution_count": 6,
          "output_type": "execute_result",
          "data": {
            "text/plain": "(160, 3)"
          },
          "metadata": {}
        }
      ],
      "execution_count": null
    },
    {
      "cell_type": "code",
      "source": [
        "test_data.shape"
      ],
      "metadata": {
        "trusted": true,
        "execution": {
          "iopub.status.busy": "2025-01-27T17:41:28.707863Z",
          "iopub.execute_input": "2025-01-27T17:41:28.708146Z",
          "iopub.status.idle": "2025-01-27T17:41:28.71314Z",
          "shell.execute_reply.started": "2025-01-27T17:41:28.708124Z",
          "shell.execute_reply": "2025-01-27T17:41:28.712215Z"
        },
        "id": "5ibRXRXyDmsT",
        "outputId": "1ad03335-558d-4d78-db4e-f4aca25b22b0"
      },
      "outputs": [
        {
          "execution_count": 7,
          "output_type": "execute_result",
          "data": {
            "text/plain": "(200, 2)"
          },
          "metadata": {}
        }
      ],
      "execution_count": null
    },
    {
      "cell_type": "code",
      "source": [
        "train_data.head()"
      ],
      "metadata": {
        "trusted": true,
        "execution": {
          "iopub.status.busy": "2025-01-27T17:41:31.413607Z",
          "iopub.execute_input": "2025-01-27T17:41:31.413921Z",
          "iopub.status.idle": "2025-01-27T17:41:31.428431Z",
          "shell.execute_reply.started": "2025-01-27T17:41:31.413897Z",
          "shell.execute_reply": "2025-01-27T17:41:31.427723Z"
        },
        "id": "dPCP02J9DmsT",
        "outputId": "3fa6a919-bd1c-491f-8528-2795915e8fff"
      },
      "outputs": [
        {
          "execution_count": 8,
          "output_type": "execute_result",
          "data": {
            "text/plain": "   image_id  labels                                     transcriptions\n0       888       0  \\nഈ ചാടി ഓടി നടക്കണ മനുഷ്യനാണോടാ നിങ്ങളിത്രേം ...\n1       554       1  മലയാള സിനിമയുടെ ഭാവി വടറാണി ഇവൾ തന്നെ നല്ല കുഴ...\n2       556       1  ഒന്ന് പെറ്റത് ആണെങ്കിലും .. മുലയും വയറും ചാടിയ...\n3       484       1  ഓൺലൈൻ പരിചയപ്പെട്ടവനെ കളി തരാമെന്ന് പറഞ്ഞു അപ്...\n4       370       0  കാമുകിയും അൺലിമിറ്റഡ് നെറ്റ് ഓഫറുംഉള്ള പയ്യന്റ...",
            "text/html": "<div>\n<style scoped>\n    .dataframe tbody tr th:only-of-type {\n        vertical-align: middle;\n    }\n\n    .dataframe tbody tr th {\n        vertical-align: top;\n    }\n\n    .dataframe thead th {\n        text-align: right;\n    }\n</style>\n<table border=\"1\" class=\"dataframe\">\n  <thead>\n    <tr style=\"text-align: right;\">\n      <th></th>\n      <th>image_id</th>\n      <th>labels</th>\n      <th>transcriptions</th>\n    </tr>\n  </thead>\n  <tbody>\n    <tr>\n      <th>0</th>\n      <td>888</td>\n      <td>0</td>\n      <td>\\nഈ ചാടി ഓടി നടക്കണ മനുഷ്യനാണോടാ നിങ്ങളിത്രേം ...</td>\n    </tr>\n    <tr>\n      <th>1</th>\n      <td>554</td>\n      <td>1</td>\n      <td>മലയാള സിനിമയുടെ ഭാവി വടറാണി ഇവൾ തന്നെ നല്ല കുഴ...</td>\n    </tr>\n    <tr>\n      <th>2</th>\n      <td>556</td>\n      <td>1</td>\n      <td>ഒന്ന് പെറ്റത് ആണെങ്കിലും .. മുലയും വയറും ചാടിയ...</td>\n    </tr>\n    <tr>\n      <th>3</th>\n      <td>484</td>\n      <td>1</td>\n      <td>ഓൺലൈൻ പരിചയപ്പെട്ടവനെ കളി തരാമെന്ന് പറഞ്ഞു അപ്...</td>\n    </tr>\n    <tr>\n      <th>4</th>\n      <td>370</td>\n      <td>0</td>\n      <td>കാമുകിയും അൺലിമിറ്റഡ് നെറ്റ് ഓഫറുംഉള്ള പയ്യന്റ...</td>\n    </tr>\n  </tbody>\n</table>\n</div>"
          },
          "metadata": {}
        }
      ],
      "execution_count": null
    },
    {
      "cell_type": "code",
      "source": [
        "test_labels.head()"
      ],
      "metadata": {
        "trusted": true,
        "execution": {
          "iopub.status.busy": "2025-01-27T17:41:33.507022Z",
          "iopub.execute_input": "2025-01-27T17:41:33.507337Z",
          "iopub.status.idle": "2025-01-27T17:41:33.514815Z",
          "shell.execute_reply.started": "2025-01-27T17:41:33.507308Z",
          "shell.execute_reply": "2025-01-27T17:41:33.514137Z"
        },
        "id": "G90pA0dDDmsU",
        "outputId": "c36b3fdf-45ac-497f-bce7-8719ce707be7"
      },
      "outputs": [
        {
          "execution_count": 9,
          "output_type": "execute_result",
          "data": {
            "text/plain": "   image_id  labels                                     transcriptions\n0       954       0    ഇതിന് മാത്രം പിള്ളാരെ ഇവർക്കെങ്ങനെ cilşma??....\n1       239       0  ഇത് ഞാൻ ചെറുതായിരുന്നപ്പോൾ ഇത് 5ആം ക്ലാസ്സ് വര...\n2        61       1  എന്തൊക്കെ ആകിയിട്ടും ഒരു മെന വരുന്നില്ലലോ നിഖി...\n3       984       0  ഇഞ്ചുറിക്കു ശേഷം ഇന്റർനാഷണൽ ഫുട്ബോൾലേക്കു തിരി...\n4       774       0  * ഡോക്ടർ\\nകണ്ണൻ സഹാവ്\\nയ്യോ.. ഒരു equipment ഉള...",
            "text/html": "<div>\n<style scoped>\n    .dataframe tbody tr th:only-of-type {\n        vertical-align: middle;\n    }\n\n    .dataframe tbody tr th {\n        vertical-align: top;\n    }\n\n    .dataframe thead th {\n        text-align: right;\n    }\n</style>\n<table border=\"1\" class=\"dataframe\">\n  <thead>\n    <tr style=\"text-align: right;\">\n      <th></th>\n      <th>image_id</th>\n      <th>labels</th>\n      <th>transcriptions</th>\n    </tr>\n  </thead>\n  <tbody>\n    <tr>\n      <th>0</th>\n      <td>954</td>\n      <td>0</td>\n      <td>ഇതിന് മാത്രം പിള്ളാരെ ഇവർക്കെങ്ങനെ cilşma??....</td>\n    </tr>\n    <tr>\n      <th>1</th>\n      <td>239</td>\n      <td>0</td>\n      <td>ഇത് ഞാൻ ചെറുതായിരുന്നപ്പോൾ ഇത് 5ആം ക്ലാസ്സ് വര...</td>\n    </tr>\n    <tr>\n      <th>2</th>\n      <td>61</td>\n      <td>1</td>\n      <td>എന്തൊക്കെ ആകിയിട്ടും ഒരു മെന വരുന്നില്ലലോ നിഖി...</td>\n    </tr>\n    <tr>\n      <th>3</th>\n      <td>984</td>\n      <td>0</td>\n      <td>ഇഞ്ചുറിക്കു ശേഷം ഇന്റർനാഷണൽ ഫുട്ബോൾലേക്കു തിരി...</td>\n    </tr>\n    <tr>\n      <th>4</th>\n      <td>774</td>\n      <td>0</td>\n      <td>* ഡോക്ടർ\\nകണ്ണൻ സഹാവ്\\nയ്യോ.. ഒരു equipment ഉള...</td>\n    </tr>\n  </tbody>\n</table>\n</div>"
          },
          "metadata": {}
        }
      ],
      "execution_count": null
    },
    {
      "cell_type": "code",
      "source": [
        "import torch\n",
        "from torch import nn, optim\n",
        "from transformers import ViTForImageClassification, SwinForImageClassification\n",
        "from torch.utils.data import DataLoader\n",
        "from torchvision import transforms\n",
        "from sklearn.metrics import classification_report\n",
        "from tqdm import tqdm\n",
        "from PIL import Image\n",
        "import os\n",
        "import pandas as pd\n",
        "import shutil\n",
        "\n",
        "# Helper function to organize data based on the CSV file\n",
        "def organize_data_from_csv(csv_path, images_dir, target_dir):\n",
        "    \"\"\"\n",
        "    Organizes images into class-labeled directories based on a CSV file.\n",
        "\n",
        "    Parameters:\n",
        "        csv_path (str): Path to the CSV file containing image IDs and labels.\n",
        "        images_dir (str): Path to the directory containing images.\n",
        "        target_dir (str): Target directory where images will be organized.\n",
        "    \"\"\"\n",
        "    data = pd.read_csv(csv_path)\n",
        "    if not os.path.exists(target_dir):\n",
        "        os.makedirs(target_dir)\n",
        "    for _, row in data.iterrows():\n",
        "        image_filename = f\"{row['image_id']}.jpg\"  # Match image filenames\n",
        "        label = str(row['labels'])  # Convert label to string for folder names\n",
        "        source_path = os.path.join(images_dir, image_filename)\n",
        "        class_dir = os.path.join(target_dir, label)\n",
        "        os.makedirs(class_dir, exist_ok=True)\n",
        "        if os.path.exists(source_path):\n",
        "            shutil.copy(source_path, class_dir)\n",
        "\n",
        "# Paths for your dataset\n",
        "TRAIN_CSV_PATH = '/kaggle/input/train-dataset/train/train.csv'\n",
        "TRAIN_IMAGES_DIR = '/kaggle/input/train-dataset/train/'\n",
        "EVAL_CSV_PATH = '/kaggle/input/eval-dataset/dev/dev.csv'\n",
        "EVAL_IMAGES_DIR = '/kaggle/input/eval-dataset/dev/'\n",
        "TEST_CSV_PATH = '/kaggle/input/test-dataset/test/test.csv'\n",
        "TEST_IMAGES_DIR = '/kaggle/input/test-dataset/test/'\n",
        "TEST_LABELS_IMAGES_DIR = '/kaggle/input/test-with-labels/test_with_labels/'\n",
        "TEST_LABELS_PATH = '/kaggle/input/test-with-labels/test_with_labels/test_with_labels.csv'\n",
        "\n",
        "MERGED_DIR = '/kaggle/working/merged_train_eval'  # Merged train/eval directory\n",
        "TEST_DIR = '/kaggle/working/test_data'  # Test data directory\n",
        "\n",
        "# Organize train and evaluation data into the merged directory\n",
        "organize_data_from_csv(TRAIN_CSV_PATH, TRAIN_IMAGES_DIR, MERGED_DIR)\n",
        "organize_data_from_csv(EVAL_CSV_PATH, EVAL_IMAGES_DIR, MERGED_DIR)\n",
        "\n",
        "# Organize test data\n",
        "organize_data_from_csv(TEST_LABELS_PATH, TEST_LABELS_IMAGES_DIR, TEST_DIR)\n",
        "\n",
        "# Custom Dataset class for image data\n",
        "class CustomImageDataset(torch.utils.data.Dataset):\n",
        "    def __init__(self, csv_path, image_dir, transform=None):\n",
        "        self.csv_path = csv_path\n",
        "        self.image_dir = image_dir\n",
        "        self.transform = transform\n",
        "        self.data = pd.read_csv(csv_path)\n",
        "\n",
        "    def __len__(self):\n",
        "        return len(self.data)\n",
        "\n",
        "    def __getitem__(self, idx):\n",
        "        # Load image and ensure it's in RGB format\n",
        "        img_name = os.path.join(self.image_dir, f\"{self.data.iloc[idx]['image_id']}.jpg\")\n",
        "        image = Image.open(img_name).convert('RGB')  # Convert to RGB if not already\n",
        "        label = int(self.data.iloc[idx]['labels'])\n",
        "\n",
        "        if self.transform:\n",
        "            image = self.transform(image)\n",
        "\n",
        "        return image, label\n",
        "\n",
        "# Prepare data transformations (ensure normalization works after converting to RGB)\n",
        "train_transforms = transforms.Compose([\n",
        "    transforms.Resize((224, 224)),\n",
        "    transforms.ToTensor(),\n",
        "    transforms.Normalize(mean=[0.485, 0.456, 0.406], std=[0.229, 0.224, 0.225])  # Pretrained model norms\n",
        "])\n",
        "\n",
        "test_transforms = transforms.Compose([\n",
        "    transforms.Resize((224, 224)),\n",
        "    transforms.ToTensor(),\n",
        "    transforms.Normalize(mean=[0.485, 0.456, 0.406], std=[0.229, 0.224, 0.225])  # Pretrained model norms\n",
        "])\n",
        "\n",
        "# Load datasets\n",
        "train_dataset = CustomImageDataset(csv_path=TRAIN_CSV_PATH, image_dir=TRAIN_IMAGES_DIR, transform=train_transforms)\n",
        "eval_dataset = CustomImageDataset(csv_path=EVAL_CSV_PATH, image_dir=EVAL_IMAGES_DIR, transform=test_transforms)\n",
        "test_dataset = CustomImageDataset(csv_path=TEST_LABELS_PATH, image_dir=TEST_LABELS_IMAGES_DIR, transform=test_transforms)\n",
        "\n",
        "train_loader = DataLoader(train_dataset, batch_size=32, shuffle=True)\n",
        "eval_loader = DataLoader(eval_dataset, batch_size=32, shuffle=False)\n",
        "test_loader = DataLoader(test_dataset, batch_size=32, shuffle=False)\n",
        "\n",
        "# Load pre-trained models from Hugging Face (ViT and Swin)\n",
        "def build_vit_model():\n",
        "    model = ViTForImageClassification.from_pretrained(\"google/vit-base-patch16-224-in21k\")\n",
        "    model.classifier = nn.Linear(model.classifier.in_features, 2)  # Binary classification\n",
        "    return model\n",
        "\n",
        "def build_swin_model():\n",
        "    model = SwinForImageClassification.from_pretrained(\"microsoft/swin-base-patch4-window7-224\")\n",
        "    model.classifier = nn.Linear(model.classifier.in_features, 2)  # Binary classification\n",
        "    return model\n",
        "\n",
        "# Choose a model to train\n",
        "model_name = \"Swin\"  # Change to \"Swin\" for Swin Transformer\n",
        "if model_name == \"ViT\":\n",
        "    model = build_vit_model()\n",
        "elif model_name == \"Swin\":\n",
        "    model = build_swin_model()\n",
        "\n",
        "# Define loss and optimizer\n",
        "criterion = nn.CrossEntropyLoss()\n",
        "optimizer = optim.Adam(model.parameters(), lr=1e-5)\n",
        "\n",
        "# Training loop\n",
        "def train_model(model, train_loader, criterion, optimizer, num_epochs=5):\n",
        "    model.train()\n",
        "    for epoch in range(num_epochs):\n",
        "        running_loss = 0.0\n",
        "        correct = 0\n",
        "        total = 0\n",
        "        for inputs, labels in tqdm(train_loader, desc=f\"Epoch {epoch + 1}/{num_epochs}\"):\n",
        "            optimizer.zero_grad()\n",
        "            outputs = model(inputs).logits\n",
        "            loss = criterion(outputs, labels)\n",
        "            loss.backward()\n",
        "            optimizer.step()\n",
        "\n",
        "            running_loss += loss.item()\n",
        "            _, predicted = torch.max(outputs, 1)\n",
        "            total += labels.size(0)\n",
        "            correct += (predicted == labels).sum().item()\n",
        "\n",
        "        epoch_loss = running_loss / len(train_loader)\n",
        "        epoch_acc = 100 * correct / total\n",
        "        print(f\"Loss: {epoch_loss:.4f}, Accuracy: {epoch_acc:.2f}%\")\n",
        "\n",
        "# Evaluation loop\n",
        "def evaluate_model(model, eval_loader):\n",
        "    model.eval()\n",
        "    all_preds = []\n",
        "    all_labels = []\n",
        "    with torch.no_grad():\n",
        "        for inputs, labels in tqdm(eval_loader, desc=\"Evaluating\"):\n",
        "            outputs = model(inputs).logits\n",
        "            _, preds = torch.max(outputs, 1)\n",
        "            all_preds.extend(preds.cpu().numpy())\n",
        "            all_labels.extend(labels.cpu().numpy())\n",
        "\n",
        "    return all_labels, all_preds\n",
        "\n",
        "# Train the model\n",
        "train_model(model, train_loader, criterion, optimizer)\n",
        "\n",
        "# Evaluate the model on the test dataset\n",
        "true_labels, predicted_labels = evaluate_model(model, test_loader)\n",
        "\n",
        "# Classification report\n",
        "report = classification_report(true_labels, predicted_labels, target_names=[\"Non-Misogyny\", \"Misogyny\"])\n",
        "print(report)\n"
      ],
      "metadata": {
        "trusted": true,
        "execution": {
          "iopub.status.busy": "2025-01-27T17:41:43.390434Z",
          "iopub.execute_input": "2025-01-27T17:41:43.390785Z",
          "iopub.status.idle": "2025-01-27T18:15:10.098198Z",
          "shell.execute_reply.started": "2025-01-27T17:41:43.390755Z",
          "shell.execute_reply": "2025-01-27T18:15:10.097244Z"
        },
        "id": "P_fEFV_NDmsU",
        "outputId": "38a92ac2-87ba-4b09-fb69-5f296dadce06",
        "colab": {
          "referenced_widgets": [
            "8f1d748b0b37439b9e32b488f2ffa58d",
            "82da2b8cb2f04d159882450603210549"
          ]
        }
      },
      "outputs": [
        {
          "output_type": "display_data",
          "data": {
            "text/plain": "config.json:   0%|          | 0.00/71.8k [00:00<?, ?B/s]",
            "application/vnd.jupyter.widget-view+json": {
              "version_major": 2,
              "version_minor": 0,
              "model_id": "8f1d748b0b37439b9e32b488f2ffa58d"
            }
          },
          "metadata": {}
        },
        {
          "output_type": "display_data",
          "data": {
            "text/plain": "model.safetensors:   0%|          | 0.00/352M [00:00<?, ?B/s]",
            "application/vnd.jupyter.widget-view+json": {
              "version_major": 2,
              "version_minor": 0,
              "model_id": "82da2b8cb2f04d159882450603210549"
            }
          },
          "metadata": {}
        },
        {
          "name": "stderr",
          "text": "Epoch 1/5: 100%|██████████| 20/20 [06:41<00:00, 20.07s/it]\n",
          "output_type": "stream"
        },
        {
          "name": "stdout",
          "text": "Loss: 0.5089, Accuracy: 75.94%\n",
          "output_type": "stream"
        },
        {
          "name": "stderr",
          "text": "Epoch 2/5: 100%|██████████| 20/20 [06:19<00:00, 18.99s/it]\n",
          "output_type": "stream"
        },
        {
          "name": "stdout",
          "text": "Loss: 0.3115, Accuracy: 87.66%\n",
          "output_type": "stream"
        },
        {
          "name": "stderr",
          "text": "Epoch 3/5: 100%|██████████| 20/20 [06:21<00:00, 19.09s/it]\n",
          "output_type": "stream"
        },
        {
          "name": "stdout",
          "text": "Loss: 0.2130, Accuracy: 92.03%\n",
          "output_type": "stream"
        },
        {
          "name": "stderr",
          "text": "Epoch 4/5: 100%|██████████| 20/20 [06:26<00:00, 19.33s/it]\n",
          "output_type": "stream"
        },
        {
          "name": "stdout",
          "text": "Loss: 0.1461, Accuracy: 95.62%\n",
          "output_type": "stream"
        },
        {
          "name": "stderr",
          "text": "Epoch 5/5: 100%|██████████| 20/20 [06:25<00:00, 19.29s/it]\n",
          "output_type": "stream"
        },
        {
          "name": "stdout",
          "text": "Loss: 0.0824, Accuracy: 98.59%\n",
          "output_type": "stream"
        },
        {
          "name": "stderr",
          "text": "Evaluating: 100%|██████████| 7/7 [00:39<00:00,  5.66s/it]",
          "output_type": "stream"
        },
        {
          "name": "stdout",
          "text": "              precision    recall  f1-score   support\n\nNon-Misogyny       0.87      0.84      0.85       122\n    Misogyny       0.76      0.81      0.78        78\n\n    accuracy                           0.82       200\n   macro avg       0.82      0.82      0.82       200\nweighted avg       0.83      0.82      0.83       200\n\n",
          "output_type": "stream"
        },
        {
          "name": "stderr",
          "text": "\n",
          "output_type": "stream"
        }
      ],
      "execution_count": null
    },
    {
      "cell_type": "code",
      "source": [
        "from sklearn.metrics import confusion_matrix, ConfusionMatrixDisplay\n",
        "import matplotlib.pyplot as plt\n",
        "\n",
        "# Compute confusion matrix\n",
        "conf_matrix = confusion_matrix(true_labels, predicted_labels)\n",
        "\n",
        "# Plot confusion matrix\n",
        "disp = ConfusionMatrixDisplay(confusion_matrix=conf_matrix, display_labels=[\"Non-Misogyny\", \"Misogyny\"])\n",
        "disp.plot(cmap=plt.cm.Blues)\n",
        "plt.title(\"Confusion Matrix\")\n",
        "plt.show()\n"
      ],
      "metadata": {
        "trusted": true,
        "execution": {
          "iopub.status.busy": "2025-01-27T18:43:36.530345Z",
          "iopub.execute_input": "2025-01-27T18:43:36.530714Z",
          "iopub.status.idle": "2025-01-27T18:43:36.791304Z",
          "shell.execute_reply.started": "2025-01-27T18:43:36.530681Z",
          "shell.execute_reply": "2025-01-27T18:43:36.790442Z"
        },
        "id": "kZJ5PkRhDmsV",
        "outputId": "3a325ad0-3514-4a44-a65e-dd39965477a1"
      },
      "outputs": [
        {
          "output_type": "display_data",
          "data": {
            "text/plain": "<Figure size 640x480 with 2 Axes>",
            "image/png": "[encoded data removed]"
          },
          "metadata": {}
        }
      ],
      "execution_count": null
    }
  ]
}