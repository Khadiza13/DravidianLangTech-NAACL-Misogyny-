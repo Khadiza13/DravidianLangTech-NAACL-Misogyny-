{
  "metadata": {
    "kernelspec": {
      "language": "python",
      "display_name": "Python 3",
      "name": "python3"
    },
    "language_info": {
      "name": "python",
      "version": "3.10.12",
      "mimetype": "text/x-python",
      "codemirror_mode": {
        "name": "ipython",
        "version": 3
      },
      "pygments_lexer": "ipython3",
      "nbconvert_exporter": "python",
      "file_extension": ".py"
    },
    "kaggle": {
      "accelerator": "nvidiaTeslaT4",
      "dataSources": [
        {
          "sourceId": 10404788,
          "sourceType": "datasetVersion",
          "datasetId": 6447553
        },
        {
          "sourceId": 10404789,
          "sourceType": "datasetVersion",
          "datasetId": 6447554
        },
        {
          "sourceId": 10404793,
          "sourceType": "datasetVersion",
          "datasetId": 6447557
        },
        {
          "sourceId": 10590024,
          "sourceType": "datasetVersion",
          "datasetId": 6554085
        }
      ],
      "dockerImageVersionId": 30919,
      "isInternetEnabled": true,
      "language": "python",
      "sourceType": "notebook",
      "isGpuEnabled": true
    },
    "colab": {
      "name": "Visual_only_Resnet",
      "provenance": []
    }
  },
  "nbformat_minor": 0,
  "nbformat": 4,
  "cells": [
    {
      "source": [
        "# IMPORTANT: SOME KAGGLE DATA SOURCES ARE PRIVATE\n",
        "# RUN THIS CELL IN ORDER TO IMPORT YOUR KAGGLE DATA SOURCES.\n",
        "import kagglehub\n",
        "kagglehub.login()\n"
      ],
      "metadata": {
        "id": "cCVatXfZJTv8"
      },
      "cell_type": "code",
      "outputs": [],
      "execution_count": null
    },
    {
      "source": [
        "# IMPORTANT: RUN THIS CELL IN ORDER TO IMPORT YOUR KAGGLE DATA SOURCES,\n",
        "# THEN FEEL FREE TO DELETE THIS CELL.\n",
        "# NOTE: THIS NOTEBOOK ENVIRONMENT DIFFERS FROM KAGGLE'S PYTHON\n",
        "# ENVIRONMENT SO THERE MAY BE MISSING LIBRARIES USED BY YOUR\n",
        "# NOTEBOOK.\n",
        "\n",
        "khadiza13_train_dataset_path = kagglehub.dataset_download('khadiza13/train-dataset')\n",
        "khadiza13_eval_dataset_path = kagglehub.dataset_download('khadiza13/eval-dataset')\n",
        "khadiza13_test_dataset_path = kagglehub.dataset_download('khadiza13/test-dataset')\n",
        "khadiza13_test_with_labels_path = kagglehub.dataset_download('khadiza13/test-with-labels')\n",
        "\n",
        "print('Data source import complete.')\n"
      ],
      "metadata": {
        "id": "z347Rqe2JTv_"
      },
      "cell_type": "code",
      "outputs": [],
      "execution_count": null
    },
    {
      "cell_type": "code",
      "source": [
        "import numpy as np\n",
        "import pandas as pd"
      ],
      "metadata": {
        "_uuid": "8f2839f25d086af736a60e9eeb907d3b93b6e0e5",
        "_cell_guid": "b1076dfc-b9ad-4769-8c92-a6c4dae69d19",
        "trusted": true,
        "execution": {
          "iopub.status.busy": "2025-03-07T05:40:06.718255Z",
          "iopub.execute_input": "2025-03-07T05:40:06.718441Z",
          "iopub.status.idle": "2025-03-07T05:40:07.644207Z",
          "shell.execute_reply.started": "2025-03-07T05:40:06.718422Z",
          "shell.execute_reply": "2025-03-07T05:40:07.643391Z"
        },
        "id": "vp7DG9KGJTwA"
      },
      "outputs": [],
      "execution_count": null
    },
    {
      "cell_type": "code",
      "source": [
        "TRAIN_DATA_PATH = '/kaggle/input/train-dataset/train/train.csv'\n",
        "EVAL_DATA_PATH = '/kaggle/input/eval-dataset/dev/dev.csv'\n",
        "TEST_DATA_PATH = '/kaggle/input/test-dataset/test/test.csv'\n",
        "TEST_LABELS_PATH = '/kaggle/input/test-with-labels/test_with_labels/test_with_labels.csv'\n",
        "# Load the training data\n",
        "train_data = pd.read_csv(TRAIN_DATA_PATH)\n",
        "eval_data = pd.read_csv(EVAL_DATA_PATH)\n",
        "test_data = pd.read_csv(TEST_DATA_PATH)\n",
        "test_labels=pd.read_csv(TEST_LABELS_PATH)"
      ],
      "metadata": {
        "trusted": true,
        "execution": {
          "iopub.status.busy": "2025-03-07T05:40:12.080543Z",
          "iopub.execute_input": "2025-03-07T05:40:12.080849Z",
          "iopub.status.idle": "2025-03-07T05:40:12.137991Z",
          "shell.execute_reply.started": "2025-03-07T05:40:12.080826Z",
          "shell.execute_reply": "2025-03-07T05:40:12.137232Z"
        },
        "id": "Y6JgHRZyJTwB"
      },
      "outputs": [],
      "execution_count": null
    },
    {
      "cell_type": "code",
      "source": [
        "train_label_counts = train_data['labels'].value_counts()\n",
        "eval_label_counts = eval_data['labels'].value_counts()\n",
        "test_label_counts=test_labels['labels'].value_counts()\n",
        "\n",
        "# Display the counts\n",
        "print(\"Training Data Label Distribution:\")\n",
        "print(train_label_counts)\n",
        "\n",
        "print(\"\\nValidation Data Label Distribution:\")\n",
        "print(eval_label_counts)\n",
        "\n",
        "print(\"\\nTest Data Label Distribution:\")\n",
        "print(test_label_counts)"
      ],
      "metadata": {
        "trusted": true,
        "execution": {
          "iopub.status.busy": "2025-03-07T05:40:15.896706Z",
          "iopub.execute_input": "2025-03-07T05:40:15.897034Z",
          "iopub.status.idle": "2025-03-07T05:40:15.91461Z",
          "shell.execute_reply.started": "2025-03-07T05:40:15.89701Z",
          "shell.execute_reply": "2025-03-07T05:40:15.913546Z"
        },
        "id": "FnWQ4Vx9JTwB",
        "outputId": "ab54e7fa-f4f3-45b3-89b8-34b2b6157478"
      },
      "outputs": [
        {
          "name": "stdout",
          "text": "Training Data Label Distribution:\nlabels\n0    381\n1    259\nName: count, dtype: int64\n\nValidation Data Label Distribution:\nlabels\n0    97\n1    63\nName: count, dtype: int64\n\nTest Data Label Distribution:\nlabels\n0    122\n1     78\nName: count, dtype: int64\n",
          "output_type": "stream"
        }
      ],
      "execution_count": null
    },
    {
      "cell_type": "code",
      "source": [
        "train_data.shape"
      ],
      "metadata": {
        "trusted": true,
        "execution": {
          "iopub.status.busy": "2025-03-07T05:40:19.623766Z",
          "iopub.execute_input": "2025-03-07T05:40:19.624196Z",
          "iopub.status.idle": "2025-03-07T05:40:19.631626Z",
          "shell.execute_reply.started": "2025-03-07T05:40:19.624153Z",
          "shell.execute_reply": "2025-03-07T05:40:19.630548Z"
        },
        "id": "hQHR9EyKJTwC",
        "outputId": "93b62a9d-dacd-4319-82e9-e7e42bbb9c0a"
      },
      "outputs": [
        {
          "execution_count": 4,
          "output_type": "execute_result",
          "data": {
            "text/plain": "(640, 3)"
          },
          "metadata": {}
        }
      ],
      "execution_count": null
    },
    {
      "cell_type": "code",
      "source": [
        "eval_data.shape"
      ],
      "metadata": {
        "trusted": true,
        "execution": {
          "iopub.status.busy": "2025-03-07T05:40:22.016401Z",
          "iopub.execute_input": "2025-03-07T05:40:22.016839Z",
          "iopub.status.idle": "2025-03-07T05:40:22.023316Z",
          "shell.execute_reply.started": "2025-03-07T05:40:22.016807Z",
          "shell.execute_reply": "2025-03-07T05:40:22.022207Z"
        },
        "id": "Kew-ddZMJTwC",
        "outputId": "8ad79438-4ca5-4c3b-d7b8-633c634e88e7"
      },
      "outputs": [
        {
          "execution_count": 5,
          "output_type": "execute_result",
          "data": {
            "text/plain": "(160, 3)"
          },
          "metadata": {}
        }
      ],
      "execution_count": null
    },
    {
      "cell_type": "code",
      "source": [
        "test_data.shape"
      ],
      "metadata": {
        "trusted": true,
        "execution": {
          "iopub.status.busy": "2025-03-07T05:40:24.575657Z",
          "iopub.execute_input": "2025-03-07T05:40:24.575985Z",
          "iopub.status.idle": "2025-03-07T05:40:24.580926Z",
          "shell.execute_reply.started": "2025-03-07T05:40:24.57596Z",
          "shell.execute_reply": "2025-03-07T05:40:24.580218Z"
        },
        "id": "KjglN-7iJTwD",
        "outputId": "e17c7431-3d84-458d-9c15-ead9089926ad"
      },
      "outputs": [
        {
          "execution_count": 6,
          "output_type": "execute_result",
          "data": {
            "text/plain": "(200, 2)"
          },
          "metadata": {}
        }
      ],
      "execution_count": null
    },
    {
      "cell_type": "code",
      "source": [
        "train_data.head()"
      ],
      "metadata": {
        "trusted": true,
        "execution": {
          "iopub.status.busy": "2025-03-07T05:40:28.569746Z",
          "iopub.execute_input": "2025-03-07T05:40:28.570098Z",
          "iopub.status.idle": "2025-03-07T05:40:28.58941Z",
          "shell.execute_reply.started": "2025-03-07T05:40:28.570073Z",
          "shell.execute_reply": "2025-03-07T05:40:28.588697Z"
        },
        "id": "TFTOMFBPJTwD",
        "outputId": "590a89a7-1ffc-4205-c2c9-1ba0306d1af8"
      },
      "outputs": [
        {
          "execution_count": 7,
          "output_type": "execute_result",
          "data": {
            "text/plain": "   image_id  labels                                     transcriptions\n0       888       0  \\nഈ ചാടി ഓടി നടക്കണ മനുഷ്യനാണോടാ നിങ്ങളിത്രേം ...\n1       554       1  മലയാള സിനിമയുടെ ഭാവി വടറാണി ഇവൾ തന്നെ നല്ല കുഴ...\n2       556       1  ഒന്ന് പെറ്റത് ആണെങ്കിലും .. മുലയും വയറും ചാടിയ...\n3       484       1  ഓൺലൈൻ പരിചയപ്പെട്ടവനെ കളി തരാമെന്ന് പറഞ്ഞു അപ്...\n4       370       0  കാമുകിയും അൺലിമിറ്റഡ് നെറ്റ് ഓഫറുംഉള്ള പയ്യന്റ...",
            "text/html": "<div>\n<style scoped>\n    .dataframe tbody tr th:only-of-type {\n        vertical-align: middle;\n    }\n\n    .dataframe tbody tr th {\n        vertical-align: top;\n    }\n\n    .dataframe thead th {\n        text-align: right;\n    }\n</style>\n<table border=\"1\" class=\"dataframe\">\n  <thead>\n    <tr style=\"text-align: right;\">\n      <th></th>\n      <th>image_id</th>\n      <th>labels</th>\n      <th>transcriptions</th>\n    </tr>\n  </thead>\n  <tbody>\n    <tr>\n      <th>0</th>\n      <td>888</td>\n      <td>0</td>\n      <td>\\nഈ ചാടി ഓടി നടക്കണ മനുഷ്യനാണോടാ നിങ്ങളിത്രേം ...</td>\n    </tr>\n    <tr>\n      <th>1</th>\n      <td>554</td>\n      <td>1</td>\n      <td>മലയാള സിനിമയുടെ ഭാവി വടറാണി ഇവൾ തന്നെ നല്ല കുഴ...</td>\n    </tr>\n    <tr>\n      <th>2</th>\n      <td>556</td>\n      <td>1</td>\n      <td>ഒന്ന് പെറ്റത് ആണെങ്കിലും .. മുലയും വയറും ചാടിയ...</td>\n    </tr>\n    <tr>\n      <th>3</th>\n      <td>484</td>\n      <td>1</td>\n      <td>ഓൺലൈൻ പരിചയപ്പെട്ടവനെ കളി തരാമെന്ന് പറഞ്ഞു അപ്...</td>\n    </tr>\n    <tr>\n      <th>4</th>\n      <td>370</td>\n      <td>0</td>\n      <td>കാമുകിയും അൺലിമിറ്റഡ് നെറ്റ് ഓഫറുംഉള്ള പയ്യന്റ...</td>\n    </tr>\n  </tbody>\n</table>\n</div>"
          },
          "metadata": {}
        }
      ],
      "execution_count": null
    },
    {
      "cell_type": "code",
      "source": [
        "test_labels.head()"
      ],
      "metadata": {
        "trusted": true,
        "execution": {
          "iopub.status.busy": "2025-03-07T05:40:33.253389Z",
          "iopub.execute_input": "2025-03-07T05:40:33.253665Z",
          "iopub.status.idle": "2025-03-07T05:40:33.261776Z",
          "shell.execute_reply.started": "2025-03-07T05:40:33.253642Z",
          "shell.execute_reply": "2025-03-07T05:40:33.260743Z"
        },
        "id": "Fs3LwhIZJTwD",
        "outputId": "ff18626c-798e-4e7d-dd1d-324c805203fb"
      },
      "outputs": [
        {
          "execution_count": 8,
          "output_type": "execute_result",
          "data": {
            "text/plain": "   image_id  labels                                     transcriptions\n0       954       0    ഇതിന് മാത്രം പിള്ളാരെ ഇവർക്കെങ്ങനെ cilşma??....\n1       239       0  ഇത് ഞാൻ ചെറുതായിരുന്നപ്പോൾ ഇത് 5ആം ക്ലാസ്സ് വര...\n2        61       1  എന്തൊക്കെ ആകിയിട്ടും ഒരു മെന വരുന്നില്ലലോ നിഖി...\n3       984       0  ഇഞ്ചുറിക്കു ശേഷം ഇന്റർനാഷണൽ ഫുട്ബോൾലേക്കു തിരി...\n4       774       0  * ഡോക്ടർ\\nകണ്ണൻ സഹാവ്\\nയ്യോ.. ഒരു equipment ഉള...",
            "text/html": "<div>\n<style scoped>\n    .dataframe tbody tr th:only-of-type {\n        vertical-align: middle;\n    }\n\n    .dataframe tbody tr th {\n        vertical-align: top;\n    }\n\n    .dataframe thead th {\n        text-align: right;\n    }\n</style>\n<table border=\"1\" class=\"dataframe\">\n  <thead>\n    <tr style=\"text-align: right;\">\n      <th></th>\n      <th>image_id</th>\n      <th>labels</th>\n      <th>transcriptions</th>\n    </tr>\n  </thead>\n  <tbody>\n    <tr>\n      <th>0</th>\n      <td>954</td>\n      <td>0</td>\n      <td>ഇതിന് മാത്രം പിള്ളാരെ ഇവർക്കെങ്ങനെ cilşma??....</td>\n    </tr>\n    <tr>\n      <th>1</th>\n      <td>239</td>\n      <td>0</td>\n      <td>ഇത് ഞാൻ ചെറുതായിരുന്നപ്പോൾ ഇത് 5ആം ക്ലാസ്സ് വര...</td>\n    </tr>\n    <tr>\n      <th>2</th>\n      <td>61</td>\n      <td>1</td>\n      <td>എന്തൊക്കെ ആകിയിട്ടും ഒരു മെന വരുന്നില്ലലോ നിഖി...</td>\n    </tr>\n    <tr>\n      <th>3</th>\n      <td>984</td>\n      <td>0</td>\n      <td>ഇഞ്ചുറിക്കു ശേഷം ഇന്റർനാഷണൽ ഫുട്ബോൾലേക്കു തിരി...</td>\n    </tr>\n    <tr>\n      <th>4</th>\n      <td>774</td>\n      <td>0</td>\n      <td>* ഡോക്ടർ\\nകണ്ണൻ സഹാവ്\\nയ്യോ.. ഒരു equipment ഉള...</td>\n    </tr>\n  </tbody>\n</table>\n</div>"
          },
          "metadata": {}
        }
      ],
      "execution_count": null
    },
    {
      "cell_type": "code",
      "source": [
        "import tensorflow as tf\n",
        "from tensorflow.keras import layers, models\n",
        "from tensorflow.keras.preprocessing.image import ImageDataGenerator\n",
        "from sklearn.metrics import classification_report\n",
        "import os\n",
        "import shutil\n",
        "\n",
        "\n",
        "# Helper function to organize data based on the CSV file\n",
        "def organize_data_from_csv(csv_path, images_dir, target_dir):\n",
        "    \"\"\"\n",
        "    Organizes images into class-labeled directories based on a CSV file.\n",
        "\n",
        "    Parameters:\n",
        "        csv_path (str): Path to the CSV file containing image IDs and labels.\n",
        "        images_dir (str): Path to the directory containing images.\n",
        "        target_dir (str): Target directory where images will be organized.\n",
        "    \"\"\"\n",
        "    data = pd.read_csv(csv_path)\n",
        "    if not os.path.exists(target_dir):\n",
        "        os.makedirs(target_dir)\n",
        "    for _, row in data.iterrows():\n",
        "        image_filename = f\"{row['image_id']}.jpg\"  # Match image filenames\n",
        "        label = str(row['labels'])  # Convert label to string for folder names\n",
        "        source_path = os.path.join(images_dir, image_filename)\n",
        "        class_dir = os.path.join(target_dir, label)\n",
        "        os.makedirs(class_dir, exist_ok=True)\n",
        "        if os.path.exists(source_path):\n",
        "            shutil.copy(source_path, class_dir)\n",
        "\n",
        "# Paths for your dataset\n",
        "TRAIN_CSV_PATH = '/kaggle/input/train-dataset/train/train.csv'\n",
        "TRAIN_IMAGES_DIR = '/kaggle/input/train-dataset/train/'\n",
        "EVAL_CSV_PATH = '/kaggle/input/eval-dataset/dev/dev.csv'\n",
        "EVAL_IMAGES_DIR = '/kaggle/input/eval-dataset/dev/'\n",
        "TEST_CSV_PATH = '/kaggle/input/test-dataset/test/test.csv'\n",
        "TEST_IMAGES_DIR = '/kaggle/input/test-dataset/test/'\n",
        "TEST_LABELS_IMAGES_DIR = '/kaggle/input/test-with-labels/test_with_labels/'\n",
        "TEST_LABELS_PATH = '/kaggle/input/test-with-labels/test_with_labels/test_with_labels.csv'\n",
        "\n",
        "MERGED_DIR = '/kaggle/working/merged_train_eval'  # Merged train/eval directory\n",
        "TEST_DIR = '/kaggle/working/test_data'  # Test data directory\n",
        "\n",
        "# Organize train and evaluation data into the merged directory\n",
        "organize_data_from_csv(TRAIN_CSV_PATH, TRAIN_IMAGES_DIR, MERGED_DIR)\n",
        "organize_data_from_csv(EVAL_CSV_PATH, EVAL_IMAGES_DIR, MERGED_DIR)\n",
        "\n",
        "# Organize test data\n",
        "organize_data_from_csv(TEST_LABELS_PATH, TEST_LABELS_IMAGES_DIR, TEST_DIR)\n"
      ],
      "metadata": {
        "trusted": true,
        "execution": {
          "iopub.status.busy": "2025-03-07T05:40:39.900825Z",
          "iopub.execute_input": "2025-03-07T05:40:39.901197Z",
          "iopub.status.idle": "2025-03-07T05:40:59.833192Z",
          "shell.execute_reply.started": "2025-03-07T05:40:39.901153Z",
          "shell.execute_reply": "2025-03-07T05:40:59.832432Z"
        },
        "id": "GaRE1HVZJTwE"
      },
      "outputs": [],
      "execution_count": null
    },
    {
      "cell_type": "code",
      "source": [
        "# Prepare data generators\n",
        "data_gen = ImageDataGenerator(rescale=1.0/255)\n",
        "\n",
        "train_eval_generator = data_gen.flow_from_directory(\n",
        "    directory=MERGED_DIR,\n",
        "    target_size=(224, 224),\n",
        "    batch_size=32,\n",
        "    class_mode=\"binary\",\n",
        ")\n",
        "\n",
        "test_generator = data_gen.flow_from_directory(\n",
        "    directory=TEST_DIR,\n",
        "    target_size=(224, 224),\n",
        "    batch_size=32,\n",
        "    class_mode=\"binary\",\n",
        "    shuffle=False,  # Ensure order matches for predictions and labels.\n",
        ")"
      ],
      "metadata": {
        "trusted": true,
        "execution": {
          "iopub.status.busy": "2025-03-07T05:41:06.534685Z",
          "iopub.execute_input": "2025-03-07T05:41:06.535026Z",
          "iopub.status.idle": "2025-03-07T05:41:06.564456Z",
          "shell.execute_reply.started": "2025-03-07T05:41:06.535001Z",
          "shell.execute_reply": "2025-03-07T05:41:06.563714Z"
        },
        "id": "lafCbiHJJTwE",
        "outputId": "c9f8a4c8-0f5b-419c-8da5-f2c9a52dd824"
      },
      "outputs": [
        {
          "name": "stdout",
          "text": "Found 800 images belonging to 2 classes.\nFound 200 images belonging to 2 classes.\n",
          "output_type": "stream"
        }
      ],
      "execution_count": null
    },
    {
      "cell_type": "code",
      "source": [
        "import tensorflow as tf\n",
        "from tensorflow.keras.applications import ResNet50\n",
        "from tensorflow.keras import layers, models\n",
        "\n",
        "def build_resnet():\n",
        "    base_model = ResNet50(weights='imagenet', include_top=False, input_shape=(224, 224, 3))\n",
        "    base_model.trainable = False  # Freeze the base model\n",
        "\n",
        "    model = models.Sequential([\n",
        "        base_model,\n",
        "        layers.GlobalAveragePooling2D(),\n",
        "        layers.Dense(128, activation='relu'),\n",
        "        layers.Dropout(0.5),\n",
        "        layers.Dense(1, activation='sigmoid')\n",
        "    ])\n",
        "\n",
        "    model.compile(optimizer='adam', loss='binary_crossentropy', metrics=['accuracy'])\n",
        "    return model"
      ],
      "metadata": {
        "trusted": true,
        "execution": {
          "iopub.status.busy": "2025-03-07T05:43:00.542442Z",
          "iopub.execute_input": "2025-03-07T05:43:00.542771Z",
          "iopub.status.idle": "2025-03-07T05:43:00.550785Z",
          "shell.execute_reply.started": "2025-03-07T05:43:00.542738Z",
          "shell.execute_reply": "2025-03-07T05:43:00.550167Z"
        },
        "id": "6QHh9m4dJTwE"
      },
      "outputs": [],
      "execution_count": null
    },
    {
      "cell_type": "code",
      "source": [
        "\n",
        "models = {\n",
        "    \"ResNet\": build_resnet()\n",
        "}\n",
        "\n",
        "# Train and evaluate models\n",
        "results = {}\n",
        "\n",
        "for model_name, model in models.items():\n",
        "    print(f\"\\nTraining {model_name}...\")\n",
        "    model.fit(train_eval_generator, epochs=5, verbose=1)\n",
        "    print(f\"Evaluating {model_name} on test data...\")\n",
        "    predictions = model.predict(test_generator)\n",
        "    predicted_labels = (predictions > 0.5).astype(int).flatten()\n",
        "    true_labels = test_generator.classes\n",
        "\n",
        "    # Classification report\n",
        "    report = classification_report(true_labels, predicted_labels, target_names=[\"Non-Misogyny\", \"Misogyny\"])\n",
        "    results[model_name] = report\n",
        "\n",
        "# Print classification reports\n",
        "for model_name, report in results.items():\n",
        "    print(f\"\\nClassification Report for {model_name}:\\n\")\n",
        "    print(report)"
      ],
      "metadata": {
        "trusted": true,
        "execution": {
          "iopub.status.busy": "2025-03-07T05:43:03.871237Z",
          "iopub.execute_input": "2025-03-07T05:43:03.871517Z",
          "iopub.status.idle": "2025-03-07T05:44:31.832655Z",
          "shell.execute_reply.started": "2025-03-07T05:43:03.871495Z",
          "shell.execute_reply": "2025-03-07T05:44:31.831838Z"
        },
        "id": "oMkLofnGJTwF",
        "outputId": "aa7f3ff9-901f-4add-9848-34a7d32e11f5"
      },
      "outputs": [
        {
          "name": "stdout",
          "text": "Downloading data from https://storage.googleapis.com/tensorflow/keras-applications/resnet/resnet50_weights_tf_dim_ordering_tf_kernels_notop.h5\n\u001b[1m94765736/94765736\u001b[0m \u001b[32m━━━━━━━━━━━━━━━━━━━━\u001b[0m\u001b[37m\u001b[0m \u001b[1m0s\u001b[0m 0us/step\n\nTraining ResNet...\nEpoch 1/5\n",
          "output_type": "stream"
        },
        {
          "name": "stderr",
          "text": "/usr/local/lib/python3.10/dist-packages/keras/src/trainers/data_adapters/py_dataset_adapter.py:122: UserWarning: Your `PyDataset` class should call `super().__init__(**kwargs)` in its constructor. `**kwargs` can include `workers`, `use_multiprocessing`, `max_queue_size`. Do not pass these arguments to `fit()`, as they will be ignored.\n  self._warn_if_super_not_called()\n",
          "output_type": "stream"
        },
        {
          "name": "stdout",
          "text": "\u001b[1m25/25\u001b[0m \u001b[32m━━━━━━━━━━━━━━━━━━━━\u001b[0m\u001b[37m\u001b[0m \u001b[1m25s\u001b[0m 334ms/step - accuracy: 0.4973 - loss: 0.8803\nEpoch 2/5\n\u001b[1m25/25\u001b[0m \u001b[32m━━━━━━━━━━━━━━━━━━━━\u001b[0m\u001b[37m\u001b[0m \u001b[1m12s\u001b[0m 334ms/step - accuracy: 0.5918 - loss: 0.6534\nEpoch 3/5\n\u001b[1m25/25\u001b[0m \u001b[32m━━━━━━━━━━━━━━━━━━━━\u001b[0m\u001b[37m\u001b[0m \u001b[1m12s\u001b[0m 329ms/step - accuracy: 0.6491 - loss: 0.6347\nEpoch 4/5\n\u001b[1m25/25\u001b[0m \u001b[32m━━━━━━━━━━━━━━━━━━━━\u001b[0m\u001b[37m\u001b[0m \u001b[1m12s\u001b[0m 317ms/step - accuracy: 0.6227 - loss: 0.6639\nEpoch 5/5\n\u001b[1m25/25\u001b[0m \u001b[32m━━━━━━━━━━━━━━━━━━━━\u001b[0m\u001b[37m\u001b[0m \u001b[1m12s\u001b[0m 322ms/step - accuracy: 0.6770 - loss: 0.6341\nEvaluating ResNet on test data...\n\u001b[1m7/7\u001b[0m \u001b[32m━━━━━━━━━━━━━━━━━━━━\u001b[0m\u001b[37m\u001b[0m \u001b[1m10s\u001b[0m 1s/step \n\nClassification Report for ResNet:\n\n              precision    recall  f1-score   support\n\nNon-Misogyny       0.64      0.99      0.78       122\n    Misogyny       0.91      0.13      0.22        78\n\n    accuracy                           0.66       200\n   macro avg       0.77      0.56      0.50       200\nweighted avg       0.75      0.66      0.56       200\n\n",
          "output_type": "stream"
        }
      ],
      "execution_count": null
    }
  ]
}