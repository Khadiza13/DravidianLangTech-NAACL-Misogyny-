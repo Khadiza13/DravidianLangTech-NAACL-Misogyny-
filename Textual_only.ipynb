{
  "metadata": {
    "kernelspec": {
      "language": "python",
      "display_name": "Python 3",
      "name": "python3"
    },
    "language_info": {
      "name": "python",
      "version": "3.10.12",
      "mimetype": "text/x-python",
      "codemirror_mode": {
        "name": "ipython",
        "version": 3
      },
      "pygments_lexer": "ipython3",
      "nbconvert_exporter": "python",
      "file_extension": ".py"
    },
    "kaggle": {
      "accelerator": "nvidiaTeslaT4",
      "dataSources": [
        {
          "sourceId": 10404788,
          "sourceType": "datasetVersion",
          "datasetId": 6447553
        },
        {
          "sourceId": 10404789,
          "sourceType": "datasetVersion",
          "datasetId": 6447554
        },
        {
          "sourceId": 10404793,
          "sourceType": "datasetVersion",
          "datasetId": 6447557
        },
        {
          "sourceId": 10590024,
          "sourceType": "datasetVersion",
          "datasetId": 6554085
        }
      ],
      "dockerImageVersionId": 30840,
      "isInternetEnabled": true,
      "language": "python",
      "sourceType": "notebook",
      "isGpuEnabled": true
    },
    "colab": {
      "name": "Textual_only",
      "provenance": []
    }
  },
  "nbformat_minor": 0,
  "nbformat": 4,
  "cells": [
    {
      "cell_type": "code",
      "source": [
        "import numpy as np\n",
        "import pandas as pd"
      ],
      "metadata": {
        "_uuid": "8f2839f25d086af736a60e9eeb907d3b93b6e0e5",
        "_cell_guid": "b1076dfc-b9ad-4769-8c92-a6c4dae69d19",
        "trusted": true,
        "execution": {
          "iopub.status.busy": "2025-01-29T07:13:00.372802Z",
          "iopub.execute_input": "2025-01-29T07:13:00.373007Z",
          "iopub.status.idle": "2025-01-29T07:13:01.119787Z",
          "shell.execute_reply.started": "2025-01-29T07:13:00.372987Z",
          "shell.execute_reply": "2025-01-29T07:13:01.118889Z"
        },
        "id": "1368F8IoEX7i"
      },
      "outputs": [],
      "execution_count": null
    },
    {
      "cell_type": "code",
      "source": [
        "TRAIN_DATA_PATH = '/kaggle/input/train-dataset/train/train.csv'\n",
        "EVAL_DATA_PATH = '/kaggle/input/eval-dataset/dev/dev.csv'\n",
        "TEST_DATA_PATH = '/kaggle/input/test-dataset/test/test.csv'\n",
        "TEST_LABELS_PATH = '/kaggle/input/test-with-labels/test_with_labels/test_with_labels.csv'\n",
        "# Load the training data\n",
        "train_data = pd.read_csv(TRAIN_DATA_PATH)\n",
        "eval_data = pd.read_csv(EVAL_DATA_PATH)\n",
        "test_data = pd.read_csv(TEST_DATA_PATH)\n",
        "test_labels=pd.read_csv(TEST_LABELS_PATH)"
      ],
      "metadata": {
        "trusted": true,
        "execution": {
          "iopub.status.busy": "2025-01-29T07:13:05.500504Z",
          "iopub.execute_input": "2025-01-29T07:13:05.500861Z",
          "iopub.status.idle": "2025-01-29T07:13:05.56366Z",
          "shell.execute_reply.started": "2025-01-29T07:13:05.500831Z",
          "shell.execute_reply": "2025-01-29T07:13:05.562877Z"
        },
        "id": "wNqrbsRuEX7k"
      },
      "outputs": [],
      "execution_count": null
    },
    {
      "cell_type": "code",
      "source": [
        "train_label_counts = train_data['labels'].value_counts()\n",
        "eval_label_counts = eval_data['labels'].value_counts()\n",
        "test_label_counts=test_labels['labels'].value_counts()\n",
        "\n",
        "# Display the counts\n",
        "print(\"Training Data Label Distribution:\")\n",
        "print(train_label_counts)\n",
        "\n",
        "print(\"\\nValidation Data Label Distribution:\")\n",
        "print(eval_label_counts)\n",
        "\n",
        "print(\"\\nTest Data Label Distribution:\")\n",
        "print(test_label_counts)"
      ],
      "metadata": {
        "trusted": true,
        "execution": {
          "iopub.status.busy": "2025-01-29T07:13:14.961462Z",
          "iopub.execute_input": "2025-01-29T07:13:14.961783Z",
          "iopub.status.idle": "2025-01-29T07:13:14.970799Z",
          "shell.execute_reply.started": "2025-01-29T07:13:14.961758Z",
          "shell.execute_reply": "2025-01-29T07:13:14.969869Z"
        },
        "id": "pEaOpgIREX7l",
        "outputId": "e44fc01c-1c6b-4abf-bfaa-8a6ea8b38a82"
      },
      "outputs": [
        {
          "name": "stdout",
          "text": "Training Data Label Distribution:\nlabels\n0    381\n1    259\nName: count, dtype: int64\n\nValidation Data Label Distribution:\nlabels\n0    97\n1    63\nName: count, dtype: int64\n\nTest Data Label Distribution:\nlabels\n0    122\n1     78\nName: count, dtype: int64\n",
          "output_type": "stream"
        }
      ],
      "execution_count": null
    },
    {
      "cell_type": "code",
      "source": [
        "train_data.shape"
      ],
      "metadata": {
        "trusted": true,
        "execution": {
          "iopub.status.busy": "2025-01-29T07:13:20.283554Z",
          "iopub.execute_input": "2025-01-29T07:13:20.283906Z",
          "iopub.status.idle": "2025-01-29T07:13:20.289756Z",
          "shell.execute_reply.started": "2025-01-29T07:13:20.283877Z",
          "shell.execute_reply": "2025-01-29T07:13:20.288839Z"
        },
        "id": "0lvRCMIBEX7n",
        "outputId": "a02870f1-bae0-40e9-ce0f-7a361d8a673a"
      },
      "outputs": [
        {
          "execution_count": 5,
          "output_type": "execute_result",
          "data": {
            "text/plain": "(640, 3)"
          },
          "metadata": {}
        }
      ],
      "execution_count": null
    },
    {
      "cell_type": "code",
      "source": [
        "eval_data.shape\n"
      ],
      "metadata": {
        "trusted": true,
        "execution": {
          "iopub.status.busy": "2025-01-29T07:13:22.623194Z",
          "iopub.execute_input": "2025-01-29T07:13:22.623574Z",
          "iopub.status.idle": "2025-01-29T07:13:22.628778Z",
          "shell.execute_reply.started": "2025-01-29T07:13:22.623542Z",
          "shell.execute_reply": "2025-01-29T07:13:22.627929Z"
        },
        "id": "fq1chYbcEX7o",
        "outputId": "cb25f980-c301-44fd-eb11-791bb943fd48"
      },
      "outputs": [
        {
          "execution_count": 6,
          "output_type": "execute_result",
          "data": {
            "text/plain": "(160, 3)"
          },
          "metadata": {}
        }
      ],
      "execution_count": null
    },
    {
      "cell_type": "code",
      "source": [
        "test_data.shape"
      ],
      "metadata": {
        "trusted": true,
        "execution": {
          "iopub.status.busy": "2025-01-29T07:13:25.186254Z",
          "iopub.execute_input": "2025-01-29T07:13:25.186521Z",
          "iopub.status.idle": "2025-01-29T07:13:25.191104Z",
          "shell.execute_reply.started": "2025-01-29T07:13:25.186502Z",
          "shell.execute_reply": "2025-01-29T07:13:25.190291Z"
        },
        "id": "gYbulHFQEX7o",
        "outputId": "3010269e-be99-4827-e277-8a84601a620e"
      },
      "outputs": [
        {
          "execution_count": 7,
          "output_type": "execute_result",
          "data": {
            "text/plain": "(200, 2)"
          },
          "metadata": {}
        }
      ],
      "execution_count": null
    },
    {
      "cell_type": "code",
      "source": [
        "train_data.head()"
      ],
      "metadata": {
        "trusted": true,
        "execution": {
          "iopub.status.busy": "2025-01-29T07:13:28.05376Z",
          "iopub.execute_input": "2025-01-29T07:13:28.054039Z",
          "iopub.status.idle": "2025-01-29T07:13:28.068666Z",
          "shell.execute_reply.started": "2025-01-29T07:13:28.05402Z",
          "shell.execute_reply": "2025-01-29T07:13:28.067895Z"
        },
        "id": "ykx-lM2JEX7p",
        "outputId": "202b5bd5-94e5-443a-94ae-c99377a4e72d"
      },
      "outputs": [
        {
          "execution_count": 8,
          "output_type": "execute_result",
          "data": {
            "text/plain": "   image_id  labels                                     transcriptions\n0       888       0  \\nഈ ചാടി ഓടി നടക്കണ മനുഷ്യനാണോടാ നിങ്ങളിത്രേം ...\n1       554       1  മലയാള സിനിമയുടെ ഭാവി വടറാണി ഇവൾ തന്നെ നല്ല കുഴ...\n2       556       1  ഒന്ന് പെറ്റത് ആണെങ്കിലും .. മുലയും വയറും ചാടിയ...\n3       484       1  ഓൺലൈൻ പരിചയപ്പെട്ടവനെ കളി തരാമെന്ന് പറഞ്ഞു അപ്...\n4       370       0  കാമുകിയും അൺലിമിറ്റഡ് നെറ്റ് ഓഫറുംഉള്ള പയ്യന്റ...",
            "text/html": "<div>\n<style scoped>\n    .dataframe tbody tr th:only-of-type {\n        vertical-align: middle;\n    }\n\n    .dataframe tbody tr th {\n        vertical-align: top;\n    }\n\n    .dataframe thead th {\n        text-align: right;\n    }\n</style>\n<table border=\"1\" class=\"dataframe\">\n  <thead>\n    <tr style=\"text-align: right;\">\n      <th></th>\n      <th>image_id</th>\n      <th>labels</th>\n      <th>transcriptions</th>\n    </tr>\n  </thead>\n  <tbody>\n    <tr>\n      <th>0</th>\n      <td>888</td>\n      <td>0</td>\n      <td>\\nഈ ചാടി ഓടി നടക്കണ മനുഷ്യനാണോടാ നിങ്ങളിത്രേം ...</td>\n    </tr>\n    <tr>\n      <th>1</th>\n      <td>554</td>\n      <td>1</td>\n      <td>മലയാള സിനിമയുടെ ഭാവി വടറാണി ഇവൾ തന്നെ നല്ല കുഴ...</td>\n    </tr>\n    <tr>\n      <th>2</th>\n      <td>556</td>\n      <td>1</td>\n      <td>ഒന്ന് പെറ്റത് ആണെങ്കിലും .. മുലയും വയറും ചാടിയ...</td>\n    </tr>\n    <tr>\n      <th>3</th>\n      <td>484</td>\n      <td>1</td>\n      <td>ഓൺലൈൻ പരിചയപ്പെട്ടവനെ കളി തരാമെന്ന് പറഞ്ഞു അപ്...</td>\n    </tr>\n    <tr>\n      <th>4</th>\n      <td>370</td>\n      <td>0</td>\n      <td>കാമുകിയും അൺലിമിറ്റഡ് നെറ്റ് ഓഫറുംഉള്ള പയ്യന്റ...</td>\n    </tr>\n  </tbody>\n</table>\n</div>"
          },
          "metadata": {}
        }
      ],
      "execution_count": null
    },
    {
      "cell_type": "code",
      "source": [
        "pip install transformers tensorflow\n"
      ],
      "metadata": {
        "trusted": true,
        "execution": {
          "iopub.status.busy": "2025-01-29T07:13:31.518455Z",
          "iopub.execute_input": "2025-01-29T07:13:31.518789Z",
          "iopub.status.idle": "2025-01-29T07:13:36.339674Z",
          "shell.execute_reply.started": "2025-01-29T07:13:31.518761Z",
          "shell.execute_reply": "2025-01-29T07:13:36.338509Z"
        },
        "id": "-V6m5n-WEX7p",
        "outputId": "4e468bfa-175f-4956-9b8b-c9761ac8a604"
      },
      "outputs": [
        {
          "name": "stdout",
          "text": "Requirement already satisfied: transformers in /usr/local/lib/python3.10/dist-packages (4.47.0)\nRequirement already satisfied: tensorflow in /usr/local/lib/python3.10/dist-packages (2.17.1)\nRequirement already satisfied: filelock in /usr/local/lib/python3.10/dist-packages (from transformers) (3.16.1)\nRequirement already satisfied: huggingface-hub<1.0,>=0.24.0 in /usr/local/lib/python3.10/dist-packages (from transformers) (0.27.0)\nRequirement already satisfied: numpy>=1.17 in /usr/local/lib/python3.10/dist-packages (from transformers) (1.26.4)\nRequirement already satisfied: packaging>=20.0 in /usr/local/lib/python3.10/dist-packages (from transformers) (24.2)\nRequirement already satisfied: pyyaml>=5.1 in /usr/local/lib/python3.10/dist-packages (from transformers) (6.0.2)\nRequirement already satisfied: regex!=2019.12.17 in /usr/local/lib/python3.10/dist-packages (from transformers) (2024.11.6)\nRequirement already satisfied: requests in /usr/local/lib/python3.10/dist-packages (from transformers) (2.32.3)\nRequirement already satisfied: tokenizers<0.22,>=0.21 in /usr/local/lib/python3.10/dist-packages (from transformers) (0.21.0)\nRequirement already satisfied: safetensors>=0.4.1 in /usr/local/lib/python3.10/dist-packages (from transformers) (0.4.5)\nRequirement already satisfied: tqdm>=4.27 in /usr/local/lib/python3.10/dist-packages (from transformers) (4.67.1)\nRequirement already satisfied: absl-py>=1.0.0 in /usr/local/lib/python3.10/dist-packages (from tensorflow) (1.4.0)\nRequirement already satisfied: astunparse>=1.6.0 in /usr/local/lib/python3.10/dist-packages (from tensorflow) (1.6.3)\nRequirement already satisfied: flatbuffers>=24.3.25 in /usr/local/lib/python3.10/dist-packages (from tensorflow) (24.3.25)\nRequirement already satisfied: gast!=0.5.0,!=0.5.1,!=0.5.2,>=0.2.1 in /usr/local/lib/python3.10/dist-packages (from tensorflow) (0.6.0)\nRequirement already satisfied: google-pasta>=0.1.1 in /usr/local/lib/python3.10/dist-packages (from tensorflow) (0.2.0)\nRequirement already satisfied: h5py>=3.10.0 in /usr/local/lib/python3.10/dist-packages (from tensorflow) (3.12.1)\nRequirement already satisfied: libclang>=13.0.0 in /usr/local/lib/python3.10/dist-packages (from tensorflow) (18.1.1)\nRequirement already satisfied: ml-dtypes<0.5.0,>=0.3.1 in /usr/local/lib/python3.10/dist-packages (from tensorflow) (0.4.1)\nRequirement already satisfied: opt-einsum>=2.3.2 in /usr/local/lib/python3.10/dist-packages (from tensorflow) (3.4.0)\nRequirement already satisfied: protobuf!=4.21.0,!=4.21.1,!=4.21.2,!=4.21.3,!=4.21.4,!=4.21.5,<5.0.0dev,>=3.20.3 in /usr/local/lib/python3.10/dist-packages (from tensorflow) (3.20.3)\nRequirement already satisfied: setuptools in /usr/local/lib/python3.10/dist-packages (from tensorflow) (75.1.0)\nRequirement already satisfied: six>=1.12.0 in /usr/local/lib/python3.10/dist-packages (from tensorflow) (1.17.0)\nRequirement already satisfied: termcolor>=1.1.0 in /usr/local/lib/python3.10/dist-packages (from tensorflow) (2.5.0)\nRequirement already satisfied: typing-extensions>=3.6.6 in /usr/local/lib/python3.10/dist-packages (from tensorflow) (4.12.2)\nRequirement already satisfied: wrapt>=1.11.0 in /usr/local/lib/python3.10/dist-packages (from tensorflow) (1.17.0)\nRequirement already satisfied: grpcio<2.0,>=1.24.3 in /usr/local/lib/python3.10/dist-packages (from tensorflow) (1.68.1)\nRequirement already satisfied: tensorboard<2.18,>=2.17 in /usr/local/lib/python3.10/dist-packages (from tensorflow) (2.17.1)\nRequirement already satisfied: keras>=3.2.0 in /usr/local/lib/python3.10/dist-packages (from tensorflow) (3.5.0)\nRequirement already satisfied: tensorflow-io-gcs-filesystem>=0.23.1 in /usr/local/lib/python3.10/dist-packages (from tensorflow) (0.37.1)\nRequirement already satisfied: wheel<1.0,>=0.23.0 in /usr/local/lib/python3.10/dist-packages (from astunparse>=1.6.0->tensorflow) (0.45.1)\nRequirement already satisfied: fsspec>=2023.5.0 in /usr/local/lib/python3.10/dist-packages (from huggingface-hub<1.0,>=0.24.0->transformers) (2024.9.0)\nRequirement already satisfied: rich in /usr/local/lib/python3.10/dist-packages (from keras>=3.2.0->tensorflow) (13.9.4)\nRequirement already satisfied: namex in /usr/local/lib/python3.10/dist-packages (from keras>=3.2.0->tensorflow) (0.0.8)\nRequirement already satisfied: optree in /usr/local/lib/python3.10/dist-packages (from keras>=3.2.0->tensorflow) (0.13.1)\nRequirement already satisfied: mkl_fft in /usr/local/lib/python3.10/dist-packages (from numpy>=1.17->transformers) (1.3.8)\nRequirement already satisfied: mkl_random in /usr/local/lib/python3.10/dist-packages (from numpy>=1.17->transformers) (1.2.4)\nRequirement already satisfied: mkl_umath in /usr/local/lib/python3.10/dist-packages (from numpy>=1.17->transformers) (0.1.1)\nRequirement already satisfied: mkl in /usr/local/lib/python3.10/dist-packages (from numpy>=1.17->transformers) (2025.0.1)\nRequirement already satisfied: tbb4py in /usr/local/lib/python3.10/dist-packages (from numpy>=1.17->transformers) (2022.0.0)\nRequirement already satisfied: mkl-service in /usr/local/lib/python3.10/dist-packages (from numpy>=1.17->transformers) (2.4.1)\nRequirement already satisfied: charset-normalizer<4,>=2 in /usr/local/lib/python3.10/dist-packages (from requests->transformers) (3.4.0)\nRequirement already satisfied: idna<4,>=2.5 in /usr/local/lib/python3.10/dist-packages (from requests->transformers) (3.10)\nRequirement already satisfied: urllib3<3,>=1.21.1 in /usr/local/lib/python3.10/dist-packages (from requests->transformers) (2.2.3)\nRequirement already satisfied: certifi>=2017.4.17 in /usr/local/lib/python3.10/dist-packages (from requests->transformers) (2024.12.14)\nRequirement already satisfied: markdown>=2.6.8 in /usr/local/lib/python3.10/dist-packages (from tensorboard<2.18,>=2.17->tensorflow) (3.7)\nRequirement already satisfied: tensorboard-data-server<0.8.0,>=0.7.0 in /usr/local/lib/python3.10/dist-packages (from tensorboard<2.18,>=2.17->tensorflow) (0.7.2)\nRequirement already satisfied: werkzeug>=1.0.1 in /usr/local/lib/python3.10/dist-packages (from tensorboard<2.18,>=2.17->tensorflow) (3.1.3)\nRequirement already satisfied: MarkupSafe>=2.1.1 in /usr/local/lib/python3.10/dist-packages (from werkzeug>=1.0.1->tensorboard<2.18,>=2.17->tensorflow) (3.0.2)\nRequirement already satisfied: intel-openmp>=2024 in /usr/local/lib/python3.10/dist-packages (from mkl->numpy>=1.17->transformers) (2024.2.0)\nRequirement already satisfied: tbb==2022.* in /usr/local/lib/python3.10/dist-packages (from mkl->numpy>=1.17->transformers) (2022.0.0)\nRequirement already satisfied: tcmlib==1.* in /usr/local/lib/python3.10/dist-packages (from tbb==2022.*->mkl->numpy>=1.17->transformers) (1.2.0)\nRequirement already satisfied: intel-cmplr-lib-rt in /usr/local/lib/python3.10/dist-packages (from mkl_umath->numpy>=1.17->transformers) (2024.2.0)\nRequirement already satisfied: markdown-it-py>=2.2.0 in /usr/local/lib/python3.10/dist-packages (from rich->keras>=3.2.0->tensorflow) (3.0.0)\nRequirement already satisfied: pygments<3.0.0,>=2.13.0 in /usr/local/lib/python3.10/dist-packages (from rich->keras>=3.2.0->tensorflow) (2.18.0)\nRequirement already satisfied: intel-cmplr-lib-ur==2024.2.0 in /usr/local/lib/python3.10/dist-packages (from intel-openmp>=2024->mkl->numpy>=1.17->transformers) (2024.2.0)\nRequirement already satisfied: mdurl~=0.1 in /usr/local/lib/python3.10/dist-packages (from markdown-it-py>=2.2.0->rich->keras>=3.2.0->tensorflow) (0.1.2)\nNote: you may need to restart the kernel to use updated packages.\n",
          "output_type": "stream"
        }
      ],
      "execution_count": null
    },
    {
      "cell_type": "code",
      "source": [
        "from transformers import AutoTokenizer, AutoModelForSequenceClassification\n",
        "import torch\n",
        "import pandas as pd\n",
        "from torch.utils.data import DataLoader, TensorDataset\n",
        "from sklearn.metrics import classification_report\n",
        "\n",
        "def load_and_preprocess_data(csv_path):\n",
        "    data = pd.read_csv(csv_path)\n",
        "    texts = data['transcriptions'].tolist()\n",
        "    labels = data['labels'].tolist()\n",
        "    return texts, labels\n",
        "\n",
        "# Paths for your dataset\n",
        "TRAIN_CSV_PATH = '/kaggle/input/train-dataset/train/train.csv'\n",
        "EVAL_CSV_PATH = '/kaggle/input/eval-dataset/dev/dev.csv'\n",
        "TEST_CSV_PATH = '/kaggle/input/test-with-labels/test_with_labels/test_with_labels.csv'\n",
        "\n",
        "# Load data\n",
        "train_texts, train_labels = load_and_preprocess_data(TRAIN_CSV_PATH)\n",
        "eval_texts, eval_labels = load_and_preprocess_data(EVAL_CSV_PATH)\n",
        "test_texts, test_labels = load_and_preprocess_data(TEST_CSV_PATH)\n",
        "\n",
        "# Merge training and evaluation data\n",
        "merged_texts = train_texts + eval_texts\n",
        "merged_labels = train_labels + eval_labels\n",
        "\n",
        "# Initialize tokenizer\n",
        "text_tokenizer = AutoTokenizer.from_pretrained(\n",
        "    \"ai4bharat/indic-bert\",\n",
        "    model_max_length=128,\n",
        "    use_fast=True\n",
        ")\n",
        "\n",
        "# Load the model - removed from_pt parameter\n",
        "text_model = AutoModelForSequenceClassification.from_pretrained(\n",
        "    \"ai4bharat/indic-bert\",\n",
        "    num_labels=2\n",
        ")\n",
        "\n",
        "def tokenize_texts(texts, tokenizer, max_length=128):\n",
        "    return tokenizer(\n",
        "        texts,\n",
        "        padding='max_length',\n",
        "        truncation=True,\n",
        "        max_length=max_length,\n",
        "        return_tensors=\"pt\"\n",
        "    )\n",
        "\n",
        "# Tokenize the data\n",
        "merged_encodings = tokenize_texts(merged_texts, text_tokenizer)\n",
        "test_encodings = tokenize_texts(test_texts, text_tokenizer)\n",
        "\n",
        "# Create datasets\n",
        "train_labels_tensor = torch.tensor(merged_labels)\n",
        "test_labels_tensor = torch.tensor(test_labels)\n",
        "\n",
        "train_dataset = TensorDataset(\n",
        "    merged_encodings['input_ids'],\n",
        "    merged_encodings['attention_mask'],\n",
        "    train_labels_tensor\n",
        ")\n",
        "train_dataloader = DataLoader(train_dataset, batch_size=16, shuffle=True)\n",
        "\n",
        "# Optimizer\n",
        "optimizer = torch.optim.AdamW(text_model.parameters(), lr=5e-5)\n",
        "\n",
        "# Training loop\n",
        "def train_model(model, dataloader, optimizer, epochs):\n",
        "    model.train()\n",
        "    for epoch in range(epochs):\n",
        "        total_loss = 0\n",
        "        for batch in dataloader:\n",
        "            input_ids, attention_mask, labels = batch\n",
        "\n",
        "            optimizer.zero_grad()\n",
        "            outputs = model(\n",
        "                input_ids=input_ids,\n",
        "                attention_mask=attention_mask,\n",
        "                labels=labels\n",
        "            )\n",
        "            loss = outputs.loss\n",
        "            total_loss += loss.item()\n",
        "            loss.backward()\n",
        "            optimizer.step()\n",
        "\n",
        "        print(f\"Epoch {epoch+1}/{epochs} - Loss: {total_loss / len(dataloader)}\")\n",
        "\n",
        "# Evaluation function\n",
        "def evaluate_model(model, encodings, labels_tensor):\n",
        "    model.eval()\n",
        "    with torch.no_grad():\n",
        "        outputs = model(\n",
        "            input_ids=encodings['input_ids'],\n",
        "            attention_mask=encodings['attention_mask']\n",
        "        )\n",
        "        logits = outputs.logits\n",
        "        predicted_labels = torch.argmax(logits, axis=1)\n",
        "        return predicted_labels\n",
        "\n",
        "# Train the model\n",
        "train_model(text_model, train_dataloader, optimizer, epochs=5)\n",
        "\n",
        "# Evaluate on test data\n",
        "predicted_labels = evaluate_model(text_model, test_encodings, test_labels_tensor)\n",
        "\n",
        "# Print classification report\n",
        "print(\"\\nClassification Report:\\n\")\n",
        "print(classification_report(\n",
        "    test_labels_tensor,\n",
        "    predicted_labels.numpy(),\n",
        "    target_names=[\"Non-Misogyny\", \"Misogyny\"]\n",
        "))"
      ],
      "metadata": {
        "trusted": true,
        "execution": {
          "iopub.status.busy": "2025-01-29T07:13:45.566574Z",
          "iopub.execute_input": "2025-01-29T07:13:45.566919Z",
          "iopub.status.idle": "2025-01-29T07:38:29.089617Z",
          "shell.execute_reply.started": "2025-01-29T07:13:45.566894Z",
          "shell.execute_reply": "2025-01-29T07:38:29.088521Z"
        },
        "id": "RU1YWwIiEX7q",
        "outputId": "18831b41-91c3-481b-961b-833e774543a7",
        "colab": {
          "referenced_widgets": [
            "994dd48a67ad4bf195fb66db9801a203",
            "49c1c715335048838894cb0abb999f49",
            "234b745abd7a41589da6b269d72fd8f4"
          ]
        }
      },
      "outputs": [
        {
          "output_type": "display_data",
          "data": {
            "text/plain": "config.json:   0%|          | 0.00/507 [00:00<?, ?B/s]",
            "application/vnd.jupyter.widget-view+json": {
              "version_major": 2,
              "version_minor": 0,
              "model_id": "994dd48a67ad4bf195fb66db9801a203"
            }
          },
          "metadata": {}
        },
        {
          "output_type": "display_data",
          "data": {
            "text/plain": "spiece.model:   0%|          | 0.00/5.65M [00:00<?, ?B/s]",
            "application/vnd.jupyter.widget-view+json": {
              "version_major": 2,
              "version_minor": 0,
              "model_id": "49c1c715335048838894cb0abb999f49"
            }
          },
          "metadata": {}
        },
        {
          "output_type": "display_data",
          "data": {
            "text/plain": "pytorch_model.bin:   0%|          | 0.00/135M [00:00<?, ?B/s]",
            "application/vnd.jupyter.widget-view+json": {
              "version_major": 2,
              "version_minor": 0,
              "model_id": "234b745abd7a41589da6b269d72fd8f4"
            }
          },
          "metadata": {}
        },
        {
          "name": "stderr",
          "text": "Some weights of AlbertForSequenceClassification were not initialized from the model checkpoint at ai4bharat/indic-bert and are newly initialized: ['classifier.bias', 'classifier.weight']\nYou should probably TRAIN this model on a down-stream task to be able to use it for predictions and inference.\n",
          "output_type": "stream"
        },
        {
          "name": "stdout",
          "text": "Epoch 1/5 - Loss: 0.6650029933452606\nEpoch 2/5 - Loss: 0.6112319225072861\nEpoch 3/5 - Loss: 0.5618323558568954\nEpoch 4/5 - Loss: 0.49354075491428373\nEpoch 5/5 - Loss: 0.4111149963736534\n\nClassification Report:\n\n              precision    recall  f1-score   support\n\nNon-Misogyny       0.86      0.68      0.76       122\n    Misogyny       0.62      0.82      0.71        78\n\n    accuracy                           0.73       200\n   macro avg       0.74      0.75      0.73       200\nweighted avg       0.76      0.73      0.74       200\n\n",
          "output_type": "stream"
        }
      ],
      "execution_count": null
    },
    {
      "cell_type": "code",
      "source": [
        "import seaborn as sns\n",
        "import matplotlib.pyplot as plt\n",
        "from sklearn.metrics import confusion_matrix\n",
        "\n",
        "# Compute confusion matrix\n",
        "conf_matrix = confusion_matrix(test_labels_tensor, predicted_labels.numpy())\n",
        "\n",
        "# Print confusion matrix\n",
        "print(\"Confusion Matrix:\\n\", conf_matrix)\n",
        "\n",
        "# Plot confusion matrix\n",
        "plt.figure(figsize=(6, 5))\n",
        "sns.heatmap(conf_matrix, annot=True, fmt='d', cmap='Blues', xticklabels=[\"Non-Misogyny\", \"Misogyny\"], yticklabels=[\"Non-Misogyny\", \"Misogyny\"])\n",
        "plt.xlabel('Predicted Labels')\n",
        "plt.ylabel('True Labels')\n",
        "plt.title('Confusion Matrix')\n",
        "plt.show()\n"
      ],
      "metadata": {
        "trusted": true,
        "execution": {
          "iopub.status.busy": "2025-01-29T07:39:21.835927Z",
          "iopub.execute_input": "2025-01-29T07:39:21.836727Z",
          "iopub.status.idle": "2025-01-29T07:39:22.422956Z",
          "shell.execute_reply.started": "2025-01-29T07:39:21.836693Z",
          "shell.execute_reply": "2025-01-29T07:39:22.421863Z"
        },
        "id": "Et8PAzY5EX7q",
        "outputId": "a21d9e00-4937-4824-f427-1b34f7db6d35"
      },
      "outputs": [
        {
          "name": "stdout",
          "text": "Confusion Matrix:\n [[83 39]\n [14 64]]\n",
          "output_type": "stream"
        },
        {
          "output_type": "display_data",
          "data": {
            "text/plain": "<Figure size 600x500 with 2 Axes>",
            "image/png": "[encoded data removed]"
          },
          "metadata": {}
        }
      ],
      "execution_count": null
    },
    {
      "cell_type": "code",
      "source": [
        "from transformers import AutoTokenizer, AutoModel, AutoModelForSequenceClassification\n",
        "import torch\n",
        "import torch.nn as nn\n",
        "import pandas as pd\n",
        "from torch.utils.data import DataLoader, TensorDataset\n",
        "from sklearn.metrics import classification_report\n",
        "from tqdm import tqdm\n",
        "\n",
        "def load_and_preprocess_data(csv_path):\n",
        "    data = pd.read_csv(csv_path)\n",
        "    texts = data['transcriptions'].tolist()\n",
        "    labels = data['labels'].tolist()\n",
        "    return texts, labels\n",
        "\n",
        "# Paths for your dataset\n",
        "TRAIN_CSV_PATH = '/kaggle/input/train-dataset/train/train.csv'\n",
        "EVAL_CSV_PATH = '/kaggle/input/eval-dataset/dev/dev.csv'\n",
        "TEST_CSV_PATH = '/kaggle/input/test-with-labels/test_with_labels/test_with_labels.csv'\n",
        "\n",
        "# Load data\n",
        "train_texts, train_labels = load_and_preprocess_data(TRAIN_CSV_PATH)\n",
        "eval_texts, eval_labels = load_and_preprocess_data(EVAL_CSV_PATH)\n",
        "test_texts, test_labels = load_and_preprocess_data(TEST_CSV_PATH)\n",
        "\n",
        "# Merge training and evaluation data\n",
        "merged_texts = train_texts + eval_texts\n",
        "merged_labels = train_labels + eval_labels\n",
        "\n",
        "# Initialize tokenizer\n",
        "text_tokenizer = AutoTokenizer.from_pretrained(\n",
        "    \"l3cube-pune/malayalam-bert\",\n",
        "    model_max_length=128,\n",
        "    use_fast=True\n",
        ")\n",
        "\n",
        "# Custom classification model using l3cube-pune/malayalam-bert\n",
        "class MalayalamBertClassifier(nn.Module):\n",
        "    def __init__(self, num_labels=2):\n",
        "        super().__init__()\n",
        "        self.bert = AutoModel.from_pretrained(\"l3cube-pune/malayalam-bert\")\n",
        "        self.bert.resize_token_embeddings(len(text_tokenizer))\n",
        "        self.dropout = nn.Dropout(0.1)\n",
        "        self.classifier = nn.Linear(self.bert.config.hidden_size, num_labels)\n",
        "\n",
        "    def forward(self, input_ids, attention_mask, labels=None):\n",
        "        outputs = self.bert(input_ids=input_ids, attention_mask=attention_mask)\n",
        "        pooled_output = outputs.last_hidden_state[:, 0, :]  # Take [CLS] token output\n",
        "        pooled_output = self.dropout(pooled_output)\n",
        "        logits = self.classifier(pooled_output)\n",
        "\n",
        "        loss = None\n",
        "        if labels is not None:\n",
        "            loss_fct = nn.CrossEntropyLoss()\n",
        "            loss = loss_fct(logits, labels)\n",
        "\n",
        "        return {'loss': loss, 'logits': logits} if loss is not None else {'logits': logits}\n",
        "\n",
        "# Initialize the custom model\n",
        "text_model = MalayalamBertClassifier(num_labels=2)\n",
        "\n",
        "def tokenize_texts(texts, tokenizer, max_length=128):\n",
        "    return tokenizer(\n",
        "        texts,\n",
        "        padding='max_length',\n",
        "        truncation=True,\n",
        "        max_length=max_length,\n",
        "        return_tensors=\"pt\"\n",
        "    )\n",
        "\n",
        "# Tokenize the data\n",
        "merged_encodings = tokenize_texts(merged_texts, text_tokenizer)\n",
        "test_encodings = tokenize_texts(test_texts, text_tokenizer)\n",
        "\n",
        "# Create datasets\n",
        "train_labels_tensor = torch.tensor(merged_labels)\n",
        "test_labels_tensor = torch.tensor(test_labels)\n",
        "\n",
        "train_dataset = TensorDataset(\n",
        "    merged_encodings['input_ids'],\n",
        "    merged_encodings['attention_mask'],\n",
        "    train_labels_tensor\n",
        ")\n",
        "\n",
        "train_dataloader = DataLoader(train_dataset, batch_size=32, shuffle=True)\n",
        "\n",
        "# Optimizer\n",
        "optimizer = torch.optim.AdamW(text_model.parameters(), lr=2e-5)\n",
        "\n",
        "# Training loop with progress bar\n",
        "def train_model(model, dataloader, optimizer, epochs):\n",
        "    model.train()\n",
        "\n",
        "    for epoch in range(epochs):\n",
        "        print(f\"\\nEpoch {epoch+1}/{epochs}\")\n",
        "        progress_bar = tqdm(dataloader, desc=\"Training\")\n",
        "        total_loss = 0\n",
        "\n",
        "        for batch in progress_bar:\n",
        "            input_ids, attention_mask, labels = batch\n",
        "\n",
        "            optimizer.zero_grad()\n",
        "            outputs = model(\n",
        "                input_ids=input_ids,\n",
        "                attention_mask=attention_mask,\n",
        "                labels=labels\n",
        "            )\n",
        "\n",
        "            loss = outputs['loss']\n",
        "            total_loss += loss.item()\n",
        "\n",
        "            loss.backward()\n",
        "            optimizer.step()\n",
        "\n",
        "            # Update progress bar\n",
        "            progress_bar.set_postfix({'loss': f\"{loss.item():.4f}\"})\n",
        "\n",
        "        avg_loss = total_loss / len(dataloader)\n",
        "        print(f\"Average loss for epoch {epoch+1}: {avg_loss:.4f}\")\n",
        "\n",
        "# Evaluation function\n",
        "def evaluate_model(model, encodings, labels_tensor):\n",
        "    model.eval()\n",
        "    with torch.no_grad():\n",
        "        outputs = model(\n",
        "            input_ids=encodings['input_ids'],\n",
        "            attention_mask=encodings['attention_mask']\n",
        "        )\n",
        "        logits = outputs['logits']\n",
        "        predicted_labels = torch.argmax(logits, axis=1)\n",
        "        return predicted_labels\n",
        "\n",
        "# Train the model for 5 epochs\n",
        "print(\"Starting training...\")\n",
        "train_model(text_model, train_dataloader, optimizer, epochs=5)\n",
        "\n",
        "# Evaluate on test data\n",
        "print(\"\\nEvaluating on test data...\")\n",
        "predicted_labels = evaluate_model(text_model, test_encodings, test_labels_tensor)\n",
        "\n",
        "# Print classification report\n",
        "print(\"\\nClassification Report:\\n\")\n",
        "print(classification_report(\n",
        "    test_labels_tensor,\n",
        "    predicted_labels.numpy(),\n",
        "    target_names=[\"Non-Misogyny\", \"Misogyny\"]\n",
        "))"
      ],
      "metadata": {
        "trusted": true,
        "execution": {
          "iopub.status.busy": "2025-01-29T07:40:46.181174Z",
          "iopub.execute_input": "2025-01-29T07:40:46.181823Z",
          "iopub.status.idle": "2025-01-29T08:08:15.348811Z",
          "shell.execute_reply.started": "2025-01-29T07:40:46.181788Z",
          "shell.execute_reply": "2025-01-29T08:08:15.347642Z"
        },
        "id": "eAoXqYpGEX7r",
        "outputId": "cc33188b-8612-4162-b089-90c7f0935d24",
        "colab": {
          "referenced_widgets": [
            "65f7c3adcf4b41cb8f6e07e0fdd8fde4",
            "99bcacc0425344408ad24dd41ac02feb",
            "82eca539321040699ffc3deec3b8cb7f",
            "d72131d3936c4c1383e338499633330f",
            "469e5c44dc55457c8e23730afc5be3f2",
            "745be0625f6f43788f786c1c6095537a"
          ]
        }
      },
      "outputs": [
        {
          "output_type": "display_data",
          "data": {
            "text/plain": "tokenizer_config.json:   0%|          | 0.00/454 [00:00<?, ?B/s]",
            "application/vnd.jupyter.widget-view+json": {
              "version_major": 2,
              "version_minor": 0,
              "model_id": "65f7c3adcf4b41cb8f6e07e0fdd8fde4"
            }
          },
          "metadata": {}
        },
        {
          "output_type": "display_data",
          "data": {
            "text/plain": "vocab.txt:   0%|          | 0.00/3.16M [00:00<?, ?B/s]",
            "application/vnd.jupyter.widget-view+json": {
              "version_major": 2,
              "version_minor": 0,
              "model_id": "99bcacc0425344408ad24dd41ac02feb"
            }
          },
          "metadata": {}
        },
        {
          "output_type": "display_data",
          "data": {
            "text/plain": "tokenizer.json:   0%|          | 0.00/6.41M [00:00<?, ?B/s]",
            "application/vnd.jupyter.widget-view+json": {
              "version_major": 2,
              "version_minor": 0,
              "model_id": "82eca539321040699ffc3deec3b8cb7f"
            }
          },
          "metadata": {}
        },
        {
          "output_type": "display_data",
          "data": {
            "text/plain": "special_tokens_map.json:   0%|          | 0.00/125 [00:00<?, ?B/s]",
            "application/vnd.jupyter.widget-view+json": {
              "version_major": 2,
              "version_minor": 0,
              "model_id": "d72131d3936c4c1383e338499633330f"
            }
          },
          "metadata": {}
        },
        {
          "output_type": "display_data",
          "data": {
            "text/plain": "config.json:   0%|          | 0.00/664 [00:00<?, ?B/s]",
            "application/vnd.jupyter.widget-view+json": {
              "version_major": 2,
              "version_minor": 0,
              "model_id": "469e5c44dc55457c8e23730afc5be3f2"
            }
          },
          "metadata": {}
        },
        {
          "output_type": "display_data",
          "data": {
            "text/plain": "model.safetensors:   0%|          | 0.00/951M [00:00<?, ?B/s]",
            "application/vnd.jupyter.widget-view+json": {
              "version_major": 2,
              "version_minor": 0,
              "model_id": "745be0625f6f43788f786c1c6095537a"
            }
          },
          "metadata": {}
        },
        {
          "name": "stderr",
          "text": "Some weights of BertModel were not initialized from the model checkpoint at l3cube-pune/malayalam-bert and are newly initialized: ['bert.pooler.dense.bias', 'bert.pooler.dense.weight']\nYou should probably TRAIN this model on a down-stream task to be able to use it for predictions and inference.\n",
          "output_type": "stream"
        },
        {
          "name": "stdout",
          "text": "Starting training...\n\nEpoch 1/5\n",
          "output_type": "stream"
        },
        {
          "name": "stderr",
          "text": "Training: 100%|██████████| 25/25 [05:29<00:00, 13.20s/it, loss=0.6656]\n",
          "output_type": "stream"
        },
        {
          "name": "stdout",
          "text": "Average loss for epoch 1: 0.6825\n\nEpoch 2/5\n",
          "output_type": "stream"
        },
        {
          "name": "stderr",
          "text": "Training: 100%|██████████| 25/25 [05:23<00:00, 12.95s/it, loss=0.6171]\n",
          "output_type": "stream"
        },
        {
          "name": "stdout",
          "text": "Average loss for epoch 2: 0.6436\n\nEpoch 3/5\n",
          "output_type": "stream"
        },
        {
          "name": "stderr",
          "text": "Training: 100%|██████████| 25/25 [05:22<00:00, 12.91s/it, loss=0.5794]\n",
          "output_type": "stream"
        },
        {
          "name": "stdout",
          "text": "Average loss for epoch 3: 0.6070\n\nEpoch 4/5\n",
          "output_type": "stream"
        },
        {
          "name": "stderr",
          "text": "Training: 100%|██████████| 25/25 [05:21<00:00, 12.85s/it, loss=0.5737]\n",
          "output_type": "stream"
        },
        {
          "name": "stdout",
          "text": "Average loss for epoch 4: 0.5696\n\nEpoch 5/5\n",
          "output_type": "stream"
        },
        {
          "name": "stderr",
          "text": "Training: 100%|██████████| 25/25 [05:22<00:00, 12.91s/it, loss=0.5210]\n",
          "output_type": "stream"
        },
        {
          "name": "stdout",
          "text": "Average loss for epoch 5: 0.5103\n\nEvaluating on test data...\n\nClassification Report:\n\n              precision    recall  f1-score   support\n\nNon-Misogyny       0.90      0.78      0.83       122\n    Misogyny       0.71      0.86      0.78        78\n\n    accuracy                           0.81       200\n   macro avg       0.80      0.82      0.81       200\nweighted avg       0.82      0.81      0.81       200\n\n",
          "output_type": "stream"
        }
      ],
      "execution_count": null
    },
    {
      "cell_type": "code",
      "source": [
        "import seaborn as sns\n",
        "import matplotlib.pyplot as plt\n",
        "from sklearn.metrics import confusion_matrix\n",
        "\n",
        "# Compute confusion matrix\n",
        "conf_matrix = confusion_matrix(test_labels_tensor, predicted_labels.numpy())\n",
        "\n",
        "# Print confusion matrix\n",
        "print(\"Confusion Matrix:\\n\", conf_matrix)\n",
        "\n",
        "# Plot confusion matrix\n",
        "plt.figure(figsize=(6, 5))\n",
        "sns.heatmap(conf_matrix, annot=True, fmt='d', cmap='Blues', xticklabels=[\"Non-Misogyny\", \"Misogyny\"], yticklabels=[\"Non-Misogyny\", \"Misogyny\"])\n",
        "plt.xlabel('Predicted Labels')\n",
        "plt.ylabel('True Labels')\n",
        "plt.title('Confusion Matrix')\n",
        "plt.show()\n"
      ],
      "metadata": {
        "trusted": true,
        "execution": {
          "iopub.status.busy": "2025-01-29T08:09:30.865189Z",
          "iopub.execute_input": "2025-01-29T08:09:30.865527Z",
          "iopub.status.idle": "2025-01-29T08:09:31.062992Z",
          "shell.execute_reply.started": "2025-01-29T08:09:30.865501Z",
          "shell.execute_reply": "2025-01-29T08:09:31.062235Z"
        },
        "id": "37_RqrbtEX7r",
        "outputId": "f8ad96ae-39b2-4d36-f2c6-de305b90127d"
      },
      "outputs": [
        {
          "name": "stdout",
          "text": "Confusion Matrix:\n [[95 27]\n [11 67]]\n",
          "output_type": "stream"
        },
        {
          "output_type": "display_data",
          "data": {
            "text/plain": "<Figure size 600x500 with 2 Axes>",
            "image/png": "[encoded data removed]"
          },
          "metadata": {}
        }
      ],
      "execution_count": null
    }
  ]
}