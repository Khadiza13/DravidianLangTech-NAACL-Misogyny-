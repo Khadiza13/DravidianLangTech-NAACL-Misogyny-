{
  "metadata": {
    "kernelspec": {
      "language": "python",
      "display_name": "Python 3",
      "name": "python3"
    },
    "language_info": {
      "name": "python",
      "version": "3.10.12",
      "mimetype": "text/x-python",
      "codemirror_mode": {
        "name": "ipython",
        "version": 3
      },
      "pygments_lexer": "ipython3",
      "nbconvert_exporter": "python",
      "file_extension": ".py"
    },
    "kaggle": {
      "accelerator": "nvidiaTeslaT4",
      "dataSources": [
        {
          "sourceId": 10404788,
          "sourceType": "datasetVersion",
          "datasetId": 6447553
        },
        {
          "sourceId": 10404789,
          "sourceType": "datasetVersion",
          "datasetId": 6447554
        },
        {
          "sourceId": 10404793,
          "sourceType": "datasetVersion",
          "datasetId": 6447557
        },
        {
          "sourceId": 10590024,
          "sourceType": "datasetVersion",
          "datasetId": 6554085
        }
      ],
      "dockerImageVersionId": 30840,
      "isInternetEnabled": true,
      "language": "python",
      "sourceType": "notebook",
      "isGpuEnabled": true
    },
    "colab": {
      "name": "Visual_only_CNN",
      "provenance": [],
      "include_colab_link": true
    }
  },
  "nbformat_minor": 0,
  "nbformat": 4,
  "cells": [
    {
      "cell_type": "markdown",
      "metadata": {
        "id": "view-in-github",
        "colab_type": "text"
      },
      "source": [
        "<a href=\"https://colab.research.google.com/github/Khadiza13/DravidianLangTech-NAACL-Misogyny-/blob/main/Visual_only_CNN.ipynb\" target=\"_parent\"><img src=\"https://colab.research.google.com/assets/colab-badge.svg\" alt=\"Open In Colab\"/></a>"
      ]
    },
    {
      "cell_type": "code",
      "source": [
        "import numpy as np\n",
        "import pandas as pd"
      ],
      "metadata": {
        "_uuid": "8f2839f25d086af736a60e9eeb907d3b93b6e0e5",
        "_cell_guid": "b1076dfc-b9ad-4769-8c92-a6c4dae69d19",
        "trusted": true,
        "execution": {
          "iopub.status.busy": "2025-01-27T05:41:40.876241Z",
          "iopub.execute_input": "2025-01-27T05:41:40.876524Z",
          "iopub.status.idle": "2025-01-27T05:41:41.167182Z",
          "shell.execute_reply.started": "2025-01-27T05:41:40.876501Z",
          "shell.execute_reply": "2025-01-27T05:41:41.166556Z"
        },
        "id": "cO5y0hR8EJuB"
      },
      "outputs": [],
      "execution_count": null
    },
    {
      "cell_type": "code",
      "source": [
        "TRAIN_DATA_PATH = '/kaggle/input/train-dataset/train/train.csv'\n",
        "EVAL_DATA_PATH = '/kaggle/input/eval-dataset/dev/dev.csv'\n",
        "TEST_DATA_PATH = '/kaggle/input/test-dataset/test/test.csv'\n",
        "TEST_LABELS_PATH = '/kaggle/input/test-with-labels/test_with_labels/test_with_labels.csv'\n",
        "# Load the training data\n",
        "train_data = pd.read_csv(TRAIN_DATA_PATH)\n",
        "eval_data = pd.read_csv(EVAL_DATA_PATH)\n",
        "test_data = pd.read_csv(TEST_DATA_PATH)\n",
        "test_labels=pd.read_csv(TEST_LABELS_PATH)"
      ],
      "metadata": {
        "trusted": true,
        "execution": {
          "iopub.status.busy": "2025-01-27T05:43:10.439017Z",
          "iopub.execute_input": "2025-01-27T05:43:10.439312Z",
          "iopub.status.idle": "2025-01-27T05:43:10.47191Z",
          "shell.execute_reply.started": "2025-01-27T05:43:10.43929Z",
          "shell.execute_reply": "2025-01-27T05:43:10.47108Z"
        },
        "id": "AcqF1FvSEJuB"
      },
      "outputs": [],
      "execution_count": null
    },
    {
      "cell_type": "code",
      "source": [
        "train_label_counts = train_data['labels'].value_counts()\n",
        "eval_label_counts = eval_data['labels'].value_counts()\n",
        "test_label_counts=test_labels['labels'].value_counts()\n",
        "\n",
        "# Display the counts\n",
        "print(\"Training Data Label Distribution:\")\n",
        "print(train_label_counts)\n",
        "\n",
        "print(\"\\nValidation Data Label Distribution:\")\n",
        "print(eval_label_counts)\n",
        "\n",
        "print(\"\\nTest Data Label Distribution:\")\n",
        "print(test_label_counts)"
      ],
      "metadata": {
        "trusted": true,
        "execution": {
          "iopub.status.busy": "2025-01-27T05:43:14.175164Z",
          "iopub.execute_input": "2025-01-27T05:43:14.175443Z",
          "iopub.status.idle": "2025-01-27T05:43:14.1922Z",
          "shell.execute_reply.started": "2025-01-27T05:43:14.175422Z",
          "shell.execute_reply": "2025-01-27T05:43:14.1914Z"
        },
        "id": "M5Jg5o6HEJuC",
        "outputId": "85b639a1-a358-43c9-de09-8ec960ff7b25"
      },
      "outputs": [
        {
          "name": "stdout",
          "text": "Training Data Label Distribution:\nlabels\n0    381\n1    259\nName: count, dtype: int64\n\nValidation Data Label Distribution:\nlabels\n0    97\n1    63\nName: count, dtype: int64\n\nTest Data Label Distribution:\nlabels\n0    122\n1     78\nName: count, dtype: int64\n",
          "output_type": "stream"
        }
      ],
      "execution_count": null
    },
    {
      "cell_type": "code",
      "source": [
        "train_data.shape"
      ],
      "metadata": {
        "trusted": true,
        "execution": {
          "iopub.status.busy": "2025-01-27T05:43:22.838955Z",
          "iopub.execute_input": "2025-01-27T05:43:22.839234Z",
          "iopub.status.idle": "2025-01-27T05:43:22.844632Z",
          "shell.execute_reply.started": "2025-01-27T05:43:22.839214Z",
          "shell.execute_reply": "2025-01-27T05:43:22.843972Z"
        },
        "id": "aQaHxOQIEJuD",
        "outputId": "38419fc0-6dce-429b-c253-2249c0062494"
      },
      "outputs": [
        {
          "execution_count": 6,
          "output_type": "execute_result",
          "data": {
            "text/plain": "(640, 3)"
          },
          "metadata": {}
        }
      ],
      "execution_count": null
    },
    {
      "cell_type": "code",
      "source": [
        "eval_data.shape"
      ],
      "metadata": {
        "trusted": true,
        "execution": {
          "iopub.status.busy": "2025-01-27T05:43:26.852933Z",
          "iopub.execute_input": "2025-01-27T05:43:26.853213Z",
          "iopub.status.idle": "2025-01-27T05:43:26.858081Z",
          "shell.execute_reply.started": "2025-01-27T05:43:26.853192Z",
          "shell.execute_reply": "2025-01-27T05:43:26.857414Z"
        },
        "id": "sn9ZhkHDEJuD",
        "outputId": "479d3878-8b2c-435e-e753-9875b7c10b53"
      },
      "outputs": [
        {
          "execution_count": 7,
          "output_type": "execute_result",
          "data": {
            "text/plain": "(160, 3)"
          },
          "metadata": {}
        }
      ],
      "execution_count": null
    },
    {
      "cell_type": "code",
      "source": [
        "test_data.shape"
      ],
      "metadata": {
        "trusted": true,
        "execution": {
          "iopub.status.busy": "2025-01-27T05:43:30.655395Z",
          "iopub.execute_input": "2025-01-27T05:43:30.65571Z",
          "iopub.status.idle": "2025-01-27T05:43:30.660355Z",
          "shell.execute_reply.started": "2025-01-27T05:43:30.655681Z",
          "shell.execute_reply": "2025-01-27T05:43:30.659707Z"
        },
        "id": "JWI_H8yfEJuD",
        "outputId": "2bd15c8d-3776-4ea1-b25b-4ce3a2ba0f0d"
      },
      "outputs": [
        {
          "execution_count": 8,
          "output_type": "execute_result",
          "data": {
            "text/plain": "(200, 2)"
          },
          "metadata": {}
        }
      ],
      "execution_count": null
    },
    {
      "cell_type": "code",
      "source": [
        "train_data.head()"
      ],
      "metadata": {
        "trusted": true,
        "execution": {
          "iopub.status.busy": "2025-01-27T05:43:37.097918Z",
          "iopub.execute_input": "2025-01-27T05:43:37.098189Z",
          "iopub.status.idle": "2025-01-27T05:43:37.111397Z",
          "shell.execute_reply.started": "2025-01-27T05:43:37.098167Z",
          "shell.execute_reply": "2025-01-27T05:43:37.110686Z"
        },
        "id": "uikhz2XzEJuE",
        "outputId": "aac44631-5003-47bf-8ccb-c4bc23a2abe5"
      },
      "outputs": [
        {
          "execution_count": 9,
          "output_type": "execute_result",
          "data": {
            "text/plain": "   image_id  labels                                     transcriptions\n0       888       0  \\nഈ ചാടി ഓടി നടക്കണ മനുഷ്യനാണോടാ നിങ്ങളിത്രേം ...\n1       554       1  മലയാള സിനിമയുടെ ഭാവി വടറാണി ഇവൾ തന്നെ നല്ല കുഴ...\n2       556       1  ഒന്ന് പെറ്റത് ആണെങ്കിലും .. മുലയും വയറും ചാടിയ...\n3       484       1  ഓൺലൈൻ പരിചയപ്പെട്ടവനെ കളി തരാമെന്ന് പറഞ്ഞു അപ്...\n4       370       0  കാമുകിയും അൺലിമിറ്റഡ് നെറ്റ് ഓഫറുംഉള്ള പയ്യന്റ...",
            "text/html": "<div>\n<style scoped>\n    .dataframe tbody tr th:only-of-type {\n        vertical-align: middle;\n    }\n\n    .dataframe tbody tr th {\n        vertical-align: top;\n    }\n\n    .dataframe thead th {\n        text-align: right;\n    }\n</style>\n<table border=\"1\" class=\"dataframe\">\n  <thead>\n    <tr style=\"text-align: right;\">\n      <th></th>\n      <th>image_id</th>\n      <th>labels</th>\n      <th>transcriptions</th>\n    </tr>\n  </thead>\n  <tbody>\n    <tr>\n      <th>0</th>\n      <td>888</td>\n      <td>0</td>\n      <td>\\nഈ ചാടി ഓടി നടക്കണ മനുഷ്യനാണോടാ നിങ്ങളിത്രേം ...</td>\n    </tr>\n    <tr>\n      <th>1</th>\n      <td>554</td>\n      <td>1</td>\n      <td>മലയാള സിനിമയുടെ ഭാവി വടറാണി ഇവൾ തന്നെ നല്ല കുഴ...</td>\n    </tr>\n    <tr>\n      <th>2</th>\n      <td>556</td>\n      <td>1</td>\n      <td>ഒന്ന് പെറ്റത് ആണെങ്കിലും .. മുലയും വയറും ചാടിയ...</td>\n    </tr>\n    <tr>\n      <th>3</th>\n      <td>484</td>\n      <td>1</td>\n      <td>ഓൺലൈൻ പരിചയപ്പെട്ടവനെ കളി തരാമെന്ന് പറഞ്ഞു അപ്...</td>\n    </tr>\n    <tr>\n      <th>4</th>\n      <td>370</td>\n      <td>0</td>\n      <td>കാമുകിയും അൺലിമിറ്റഡ് നെറ്റ് ഓഫറുംഉള്ള പയ്യന്റ...</td>\n    </tr>\n  </tbody>\n</table>\n</div>"
          },
          "metadata": {}
        }
      ],
      "execution_count": null
    },
    {
      "cell_type": "code",
      "source": [
        "test_labels.head()"
      ],
      "metadata": {
        "trusted": true,
        "execution": {
          "iopub.status.busy": "2025-01-27T05:44:09.477107Z",
          "iopub.execute_input": "2025-01-27T05:44:09.477383Z",
          "iopub.status.idle": "2025-01-27T05:44:09.48478Z",
          "shell.execute_reply.started": "2025-01-27T05:44:09.47736Z",
          "shell.execute_reply": "2025-01-27T05:44:09.484083Z"
        },
        "id": "aX9uqdONEJuF",
        "outputId": "cf5917af-7f52-4b87-916e-d5399626e9a9"
      },
      "outputs": [
        {
          "execution_count": 10,
          "output_type": "execute_result",
          "data": {
            "text/plain": "   image_id  labels                                     transcriptions\n0       954       0    ഇതിന് മാത്രം പിള്ളാരെ ഇവർക്കെങ്ങനെ cilşma??....\n1       239       0  ഇത് ഞാൻ ചെറുതായിരുന്നപ്പോൾ ഇത് 5ആം ക്ലാസ്സ് വര...\n2        61       1  എന്തൊക്കെ ആകിയിട്ടും ഒരു മെന വരുന്നില്ലലോ നിഖി...\n3       984       0  ഇഞ്ചുറിക്കു ശേഷം ഇന്റർനാഷണൽ ഫുട്ബോൾലേക്കു തിരി...\n4       774       0  * ഡോക്ടർ\\nകണ്ണൻ സഹാവ്\\nയ്യോ.. ഒരു equipment ഉള...",
            "text/html": "<div>\n<style scoped>\n    .dataframe tbody tr th:only-of-type {\n        vertical-align: middle;\n    }\n\n    .dataframe tbody tr th {\n        vertical-align: top;\n    }\n\n    .dataframe thead th {\n        text-align: right;\n    }\n</style>\n<table border=\"1\" class=\"dataframe\">\n  <thead>\n    <tr style=\"text-align: right;\">\n      <th></th>\n      <th>image_id</th>\n      <th>labels</th>\n      <th>transcriptions</th>\n    </tr>\n  </thead>\n  <tbody>\n    <tr>\n      <th>0</th>\n      <td>954</td>\n      <td>0</td>\n      <td>ഇതിന് മാത്രം പിള്ളാരെ ഇവർക്കെങ്ങനെ cilşma??....</td>\n    </tr>\n    <tr>\n      <th>1</th>\n      <td>239</td>\n      <td>0</td>\n      <td>ഇത് ഞാൻ ചെറുതായിരുന്നപ്പോൾ ഇത് 5ആം ക്ലാസ്സ് വര...</td>\n    </tr>\n    <tr>\n      <th>2</th>\n      <td>61</td>\n      <td>1</td>\n      <td>എന്തൊക്കെ ആകിയിട്ടും ഒരു മെന വരുന്നില്ലലോ നിഖി...</td>\n    </tr>\n    <tr>\n      <th>3</th>\n      <td>984</td>\n      <td>0</td>\n      <td>ഇഞ്ചുറിക്കു ശേഷം ഇന്റർനാഷണൽ ഫുട്ബോൾലേക്കു തിരി...</td>\n    </tr>\n    <tr>\n      <th>4</th>\n      <td>774</td>\n      <td>0</td>\n      <td>* ഡോക്ടർ\\nകണ്ണൻ സഹാവ്\\nയ്യോ.. ഒരു equipment ഉള...</td>\n    </tr>\n  </tbody>\n</table>\n</div>"
          },
          "metadata": {}
        }
      ],
      "execution_count": null
    },
    {
      "cell_type": "code",
      "source": [
        "import tensorflow as tf\n",
        "from tensorflow.keras import layers, models\n",
        "from tensorflow.keras.preprocessing.image import ImageDataGenerator\n",
        "from sklearn.metrics import classification_report\n",
        "import os\n",
        "import shutil\n",
        "\n",
        "\n",
        "# Helper function to organize data based on the CSV file\n",
        "def organize_data_from_csv(csv_path, images_dir, target_dir):\n",
        "    \"\"\"\n",
        "    Organizes images into class-labeled directories based on a CSV file.\n",
        "\n",
        "    Parameters:\n",
        "        csv_path (str): Path to the CSV file containing image IDs and labels.\n",
        "        images_dir (str): Path to the directory containing images.\n",
        "        target_dir (str): Target directory where images will be organized.\n",
        "    \"\"\"\n",
        "    data = pd.read_csv(csv_path)\n",
        "    if not os.path.exists(target_dir):\n",
        "        os.makedirs(target_dir)\n",
        "    for _, row in data.iterrows():\n",
        "        image_filename = f\"{row['image_id']}.jpg\"  # Match image filenames\n",
        "        label = str(row['labels'])  # Convert label to string for folder names\n",
        "        source_path = os.path.join(images_dir, image_filename)\n",
        "        class_dir = os.path.join(target_dir, label)\n",
        "        os.makedirs(class_dir, exist_ok=True)\n",
        "        if os.path.exists(source_path):\n",
        "            shutil.copy(source_path, class_dir)\n",
        "\n",
        "# Paths for your dataset\n",
        "TRAIN_CSV_PATH = '/kaggle/input/train-dataset/train/train.csv'\n",
        "TRAIN_IMAGES_DIR = '/kaggle/input/train-dataset/train/'\n",
        "EVAL_CSV_PATH = '/kaggle/input/eval-dataset/dev/dev.csv'\n",
        "EVAL_IMAGES_DIR = '/kaggle/input/eval-dataset/dev/'\n",
        "TEST_CSV_PATH = '/kaggle/input/test-dataset/test/test.csv'\n",
        "TEST_IMAGES_DIR = '/kaggle/input/test-dataset/test/'\n",
        "TEST_LABELS_IMAGES_DIR = '/kaggle/input/test-with-labels/test_with_labels/'\n",
        "TEST_LABELS_PATH = '/kaggle/input/test-with-labels/test_with_labels/test_with_labels.csv'\n",
        "\n",
        "MERGED_DIR = '/kaggle/working/merged_train_eval'  # Merged train/eval directory\n",
        "TEST_DIR = '/kaggle/working/test_data'  # Test data directory\n",
        "\n",
        "# Organize train and evaluation data into the merged directory\n",
        "organize_data_from_csv(TRAIN_CSV_PATH, TRAIN_IMAGES_DIR, MERGED_DIR)\n",
        "organize_data_from_csv(EVAL_CSV_PATH, EVAL_IMAGES_DIR, MERGED_DIR)\n",
        "\n",
        "# Organize test data\n",
        "organize_data_from_csv(TEST_LABELS_PATH, TEST_LABELS_IMAGES_DIR, TEST_DIR)\n"
      ],
      "metadata": {
        "trusted": true,
        "execution": {
          "iopub.status.busy": "2025-01-27T06:39:16.865046Z",
          "iopub.execute_input": "2025-01-27T06:39:16.865332Z",
          "iopub.status.idle": "2025-01-27T06:39:19.451716Z",
          "shell.execute_reply.started": "2025-01-27T06:39:16.865311Z",
          "shell.execute_reply": "2025-01-27T06:39:19.451098Z"
        },
        "id": "asQJtQ8LEJuF"
      },
      "outputs": [],
      "execution_count": null
    },
    {
      "cell_type": "code",
      "source": [
        "# Prepare data generators\n",
        "data_gen = ImageDataGenerator(rescale=1.0/255)\n",
        "\n",
        "train_eval_generator = data_gen.flow_from_directory(\n",
        "    directory=MERGED_DIR,\n",
        "    target_size=(224, 224),\n",
        "    batch_size=32,\n",
        "    class_mode=\"binary\",\n",
        ")\n",
        "\n",
        "test_generator = data_gen.flow_from_directory(\n",
        "    directory=TEST_DIR,\n",
        "    target_size=(224, 224),\n",
        "    batch_size=32,\n",
        "    class_mode=\"binary\",\n",
        "    shuffle=False,  # Ensure order matches for predictions and labels.\n",
        ")"
      ],
      "metadata": {
        "trusted": true,
        "execution": {
          "iopub.status.busy": "2025-01-27T06:39:22.678826Z",
          "iopub.execute_input": "2025-01-27T06:39:22.679249Z",
          "iopub.status.idle": "2025-01-27T06:39:22.707556Z",
          "shell.execute_reply.started": "2025-01-27T06:39:22.679215Z",
          "shell.execute_reply": "2025-01-27T06:39:22.706719Z"
        },
        "id": "1NvpQLsYEJuF",
        "outputId": "3b2918f8-1ddb-411c-95f8-5e0916f461db"
      },
      "outputs": [
        {
          "name": "stdout",
          "text": "Found 800 images belonging to 2 classes.\nFound 200 images belonging to 2 classes.\n",
          "output_type": "stream"
        }
      ],
      "execution_count": null
    },
    {
      "cell_type": "code",
      "source": [
        "# Define the models\n",
        "def build_cnn():\n",
        "    model = models.Sequential([\n",
        "        layers.Conv2D(32, (3, 3), activation='relu', input_shape=(224, 224, 3)),\n",
        "        layers.MaxPooling2D((2, 2)),\n",
        "        layers.Conv2D(64, (3, 3), activation='relu'),\n",
        "        layers.MaxPooling2D((2, 2)),\n",
        "        layers.Conv2D(128, (3, 3), activation='relu'),\n",
        "        layers.Flatten(),\n",
        "        layers.Dense(128, activation='relu'),\n",
        "        layers.Dense(1, activation='sigmoid')\n",
        "    ])\n",
        "    model.compile(optimizer='adam', loss='binary_crossentropy', metrics=['accuracy'])\n",
        "    return model"
      ],
      "metadata": {
        "trusted": true,
        "execution": {
          "iopub.status.busy": "2025-01-27T07:14:51.967708Z",
          "iopub.execute_input": "2025-01-27T07:14:51.968049Z",
          "iopub.status.idle": "2025-01-27T07:14:51.973145Z",
          "shell.execute_reply.started": "2025-01-27T07:14:51.968024Z",
          "shell.execute_reply": "2025-01-27T07:14:51.972302Z"
        },
        "id": "5AWXWEXnEJuF"
      },
      "outputs": [],
      "execution_count": null
    },
    {
      "cell_type": "code",
      "source": [
        "# Train and evaluate models\n",
        "models = {\n",
        "    \"CNN\": build_cnn(),\n",
        "    # \"Vision Transformer\": build_vit(),\n",
        "    # \"Swin Transformer\": build_swin()\n",
        "}\n",
        "\n",
        "results = {}\n",
        "\n",
        "for model_name, model in models.items():\n",
        "    print(f\"\\nTraining {model_name}...\")\n",
        "    model.fit(train_eval_generator, epochs=5, verbose=1)\n",
        "    print(f\"Evaluating {model_name} on test data...\")\n",
        "    predictions = model.predict(test_generator)\n",
        "    predicted_labels = (predictions > 0.5).astype(int).flatten()\n",
        "    true_labels = test_generator.classes\n",
        "\n",
        "    # Classification report\n",
        "    report = classification_report(true_labels, predicted_labels, target_names=[\"Non-Misogyny\", \"Misogyny\"])\n",
        "    results[model_name] = report\n",
        "\n",
        "# Print classification reports\n",
        "for model_name, report in results.items():\n",
        "    print(f\"\\nClassification Report for {model_name}:\\n\")\n",
        "    print(report)\n"
      ],
      "metadata": {
        "trusted": true,
        "execution": {
          "iopub.status.busy": "2025-01-27T07:14:54.111679Z",
          "iopub.execute_input": "2025-01-27T07:14:54.111993Z",
          "iopub.status.idle": "2025-01-27T07:16:00.173607Z",
          "shell.execute_reply.started": "2025-01-27T07:14:54.111968Z",
          "shell.execute_reply": "2025-01-27T07:16:00.172893Z"
        },
        "id": "reMJlzuWEJuG",
        "outputId": "b683e6e1-7923-48fa-e4b0-eea86f4e68d8"
      },
      "outputs": [
        {
          "name": "stdout",
          "text": "\nTraining CNN...\nEpoch 1/5\n",
          "output_type": "stream"
        },
        {
          "name": "stderr",
          "text": "/usr/local/lib/python3.10/dist-packages/keras/src/trainers/data_adapters/py_dataset_adapter.py:122: UserWarning: Your `PyDataset` class should call `super().__init__(**kwargs)` in its constructor. `**kwargs` can include `workers`, `use_multiprocessing`, `max_queue_size`. Do not pass these arguments to `fit()`, as they will be ignored.\n  self._warn_if_super_not_called()\n",
          "output_type": "stream"
        },
        {
          "name": "stdout",
          "text": "\u001b[1m25/25\u001b[0m \u001b[32m━━━━━━━━━━━━━━━━━━━━\u001b[0m\u001b[37m\u001b[0m \u001b[1m18s\u001b[0m 274ms/step - accuracy: 0.5394 - loss: 3.2314\nEpoch 2/5\n\u001b[1m25/25\u001b[0m \u001b[32m━━━━━━━━━━━━━━━━━━━━\u001b[0m\u001b[37m\u001b[0m \u001b[1m11s\u001b[0m 298ms/step - accuracy: 0.7529 - loss: 0.5388\nEpoch 3/5\n\u001b[1m25/25\u001b[0m \u001b[32m━━━━━━━━━━━━━━━━━━━━\u001b[0m\u001b[37m\u001b[0m \u001b[1m11s\u001b[0m 305ms/step - accuracy: 0.7803 - loss: 0.4900\nEpoch 4/5\n\u001b[1m25/25\u001b[0m \u001b[32m━━━━━━━━━━━━━━━━━━━━\u001b[0m\u001b[37m\u001b[0m \u001b[1m10s\u001b[0m 307ms/step - accuracy: 0.8213 - loss: 0.4069\nEpoch 5/5\n\u001b[1m25/25\u001b[0m \u001b[32m━━━━━━━━━━━━━━━━━━━━\u001b[0m\u001b[37m\u001b[0m \u001b[1m11s\u001b[0m 303ms/step - accuracy: 0.9103 - loss: 0.2341\nEvaluating CNN on test data...\n\u001b[1m7/7\u001b[0m \u001b[32m━━━━━━━━━━━━━━━━━━━━\u001b[0m\u001b[37m\u001b[0m \u001b[1m4s\u001b[0m 486ms/step\n\nClassification Report for CNN:\n\n              precision    recall  f1-score   support\n\nNon-Misogyny       0.72      0.80      0.76       122\n    Misogyny       0.62      0.51      0.56        78\n\n    accuracy                           0.69       200\n   macro avg       0.67      0.66      0.66       200\nweighted avg       0.68      0.69      0.68       200\n\n",
          "output_type": "stream"
        }
      ],
      "execution_count": null
    }
  ]
}