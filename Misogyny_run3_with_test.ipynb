{
  "metadata": {
    "kernelspec": {
      "language": "python",
      "display_name": "Python 3",
      "name": "python3"
    },
    "language_info": {
      "name": "python",
      "version": "3.10.12",
      "mimetype": "text/x-python",
      "codemirror_mode": {
        "name": "ipython",
        "version": 3
      },
      "pygments_lexer": "ipython3",
      "nbconvert_exporter": "python",
      "file_extension": ".py"
    },
    "kaggle": {
      "accelerator": "nvidiaTeslaT4",
      "dataSources": [
        {
          "sourceId": 10404788,
          "sourceType": "datasetVersion",
          "datasetId": 6447553
        },
        {
          "sourceId": 10404789,
          "sourceType": "datasetVersion",
          "datasetId": 6447554
        },
        {
          "sourceId": 10404793,
          "sourceType": "datasetVersion",
          "datasetId": 6447557
        },
        {
          "sourceId": 10590024,
          "sourceType": "datasetVersion",
          "datasetId": 6554085
        }
      ],
      "dockerImageVersionId": 30840,
      "isInternetEnabled": true,
      "language": "python",
      "sourceType": "notebook",
      "isGpuEnabled": true
    },
    "colab": {
      "name": "Misogyny_run3_with_test",
      "provenance": [],
      "include_colab_link": true
    }
  },
  "nbformat_minor": 0,
  "nbformat": 4,
  "cells": [
    {
      "cell_type": "markdown",
      "metadata": {
        "id": "view-in-github",
        "colab_type": "text"
      },
      "source": [
        "<a href=\"https://colab.research.google.com/github/Khadiza13/DravidianLangTech-NAACL-Misogyny-/blob/main/Misogyny_run3_with_test.ipynb\" target=\"_parent\"><img src=\"https://colab.research.google.com/assets/colab-badge.svg\" alt=\"Open In Colab\"/></a>"
      ]
    },
    {
      "cell_type": "code",
      "source": [
        "import numpy as np\n",
        "import pandas as pd"
      ],
      "metadata": {
        "_uuid": "8f2839f25d086af736a60e9eeb907d3b93b6e0e5",
        "_cell_guid": "b1076dfc-b9ad-4769-8c92-a6c4dae69d19",
        "trusted": true,
        "execution": {
          "iopub.status.busy": "2025-01-29T08:27:46.400429Z",
          "iopub.execute_input": "2025-01-29T08:27:46.40111Z",
          "iopub.status.idle": "2025-01-29T08:27:46.405078Z",
          "shell.execute_reply.started": "2025-01-29T08:27:46.40107Z",
          "shell.execute_reply": "2025-01-29T08:27:46.404041Z"
        },
        "id": "9BHH0ZWOCxhZ"
      },
      "outputs": [],
      "execution_count": null
    },
    {
      "cell_type": "code",
      "source": [
        "TRAIN_DATA_PATH = '/kaggle/input/train-dataset/train/train.csv'\n",
        "EVAL_DATA_PATH = '/kaggle/input/eval-dataset/dev/dev.csv'\n",
        "TEST_DATA_PATH = '/kaggle/input/test-dataset/test/test.csv'\n",
        "TEST_LABELS_PATH = '/kaggle/input/test-with-labels/test_with_labels/test_with_labels.csv'\n",
        "# Load the training data\n",
        "train_data = pd.read_csv(TRAIN_DATA_PATH)\n",
        "eval_data = pd.read_csv(EVAL_DATA_PATH)\n",
        "test_data = pd.read_csv(TEST_DATA_PATH)\n",
        "test_labels=pd.read_csv(TEST_LABELS_PATH)"
      ],
      "metadata": {
        "trusted": true,
        "execution": {
          "iopub.status.busy": "2025-01-29T08:27:53.84471Z",
          "iopub.execute_input": "2025-01-29T08:27:53.844979Z",
          "iopub.status.idle": "2025-01-29T08:27:53.870141Z",
          "shell.execute_reply.started": "2025-01-29T08:27:53.84496Z",
          "shell.execute_reply": "2025-01-29T08:27:53.869157Z"
        },
        "id": "0rHWuzSsCxha"
      },
      "outputs": [],
      "execution_count": null
    },
    {
      "cell_type": "code",
      "source": [
        "train_label_counts = train_data['labels'].value_counts()\n",
        "eval_label_counts = eval_data['labels'].value_counts()\n",
        "test_label_counts=test_labels['labels'].value_counts()\n",
        "\n",
        "# Display the counts\n",
        "print(\"Training Data Label Distribution:\")\n",
        "print(train_label_counts)\n",
        "\n",
        "print(\"\\nValidation Data Label Distribution:\")\n",
        "print(eval_label_counts)\n",
        "\n",
        "print(\"\\nTest Data Label Distribution:\")\n",
        "print(test_label_counts)"
      ],
      "metadata": {
        "trusted": true,
        "execution": {
          "iopub.status.busy": "2025-01-29T08:28:09.131377Z",
          "iopub.execute_input": "2025-01-29T08:28:09.131863Z",
          "iopub.status.idle": "2025-01-29T08:28:09.168342Z",
          "shell.execute_reply.started": "2025-01-29T08:28:09.131823Z",
          "shell.execute_reply": "2025-01-29T08:28:09.166929Z"
        },
        "id": "k5evavKxCxha",
        "outputId": "7d3ccec2-5440-48c8-e2cc-b9996227bb55"
      },
      "outputs": [
        {
          "name": "stdout",
          "text": "Training Data Label Distribution:\nlabels\n0    381\n1    259\nName: count, dtype: int64\n\nValidation Data Label Distribution:\nlabels\n0    97\n1    63\nName: count, dtype: int64\n\nTest Data Label Distribution:\nlabels\n0    122\n1     78\nName: count, dtype: int64\n",
          "output_type": "stream"
        }
      ],
      "execution_count": null
    },
    {
      "cell_type": "code",
      "source": [
        "train_data.shape"
      ],
      "metadata": {
        "trusted": true,
        "execution": {
          "iopub.status.busy": "2025-01-29T08:28:12.938584Z",
          "iopub.execute_input": "2025-01-29T08:28:12.938887Z",
          "iopub.status.idle": "2025-01-29T08:28:12.945479Z",
          "shell.execute_reply.started": "2025-01-29T08:28:12.938865Z",
          "shell.execute_reply": "2025-01-29T08:28:12.944693Z"
        },
        "id": "Xsy8HsisCxhb",
        "outputId": "c84a19d3-77ae-4163-82dd-74c4260fe62c"
      },
      "outputs": [
        {
          "execution_count": 6,
          "output_type": "execute_result",
          "data": {
            "text/plain": "(640, 3)"
          },
          "metadata": {}
        }
      ],
      "execution_count": null
    },
    {
      "cell_type": "code",
      "source": [
        "eval_data.shape\n"
      ],
      "metadata": {
        "trusted": true,
        "execution": {
          "iopub.status.busy": "2025-01-29T08:28:14.968603Z",
          "iopub.execute_input": "2025-01-29T08:28:14.968888Z",
          "iopub.status.idle": "2025-01-29T08:28:14.973821Z",
          "shell.execute_reply.started": "2025-01-29T08:28:14.968868Z",
          "shell.execute_reply": "2025-01-29T08:28:14.97313Z"
        },
        "id": "zvKWoysxCxhb",
        "outputId": "dfa7e80e-946a-439d-9eb3-0ab894013642"
      },
      "outputs": [
        {
          "execution_count": 7,
          "output_type": "execute_result",
          "data": {
            "text/plain": "(160, 3)"
          },
          "metadata": {}
        }
      ],
      "execution_count": null
    },
    {
      "cell_type": "code",
      "source": [
        "test_data.shape"
      ],
      "metadata": {
        "trusted": true,
        "execution": {
          "iopub.status.busy": "2025-01-29T08:28:17.122553Z",
          "iopub.execute_input": "2025-01-29T08:28:17.122848Z",
          "iopub.status.idle": "2025-01-29T08:28:17.127615Z",
          "shell.execute_reply.started": "2025-01-29T08:28:17.122828Z",
          "shell.execute_reply": "2025-01-29T08:28:17.126746Z"
        },
        "id": "z-1XQG_FCxhc",
        "outputId": "a8138cb9-09c4-4710-bdde-08a745accd53"
      },
      "outputs": [
        {
          "execution_count": 8,
          "output_type": "execute_result",
          "data": {
            "text/plain": "(200, 2)"
          },
          "metadata": {}
        }
      ],
      "execution_count": null
    },
    {
      "cell_type": "code",
      "source": [
        "train_data.head()"
      ],
      "metadata": {
        "trusted": true,
        "execution": {
          "iopub.status.busy": "2025-01-29T08:28:20.111615Z",
          "iopub.execute_input": "2025-01-29T08:28:20.111893Z",
          "iopub.status.idle": "2025-01-29T08:28:20.127828Z",
          "shell.execute_reply.started": "2025-01-29T08:28:20.111873Z",
          "shell.execute_reply": "2025-01-29T08:28:20.127134Z"
        },
        "id": "p52cYkM8Cxhc",
        "outputId": "eec41b7d-978d-4a01-e907-b97250f047b0"
      },
      "outputs": [
        {
          "execution_count": 9,
          "output_type": "execute_result",
          "data": {
            "text/plain": "   image_id  labels                                     transcriptions\n0       888       0  \\nഈ ചാടി ഓടി നടക്കണ മനുഷ്യനാണോടാ നിങ്ങളിത്രേം ...\n1       554       1  മലയാള സിനിമയുടെ ഭാവി വടറാണി ഇവൾ തന്നെ നല്ല കുഴ...\n2       556       1  ഒന്ന് പെറ്റത് ആണെങ്കിലും .. മുലയും വയറും ചാടിയ...\n3       484       1  ഓൺലൈൻ പരിചയപ്പെട്ടവനെ കളി തരാമെന്ന് പറഞ്ഞു അപ്...\n4       370       0  കാമുകിയും അൺലിമിറ്റഡ് നെറ്റ് ഓഫറുംഉള്ള പയ്യന്റ...",
            "text/html": "<div>\n<style scoped>\n    .dataframe tbody tr th:only-of-type {\n        vertical-align: middle;\n    }\n\n    .dataframe tbody tr th {\n        vertical-align: top;\n    }\n\n    .dataframe thead th {\n        text-align: right;\n    }\n</style>\n<table border=\"1\" class=\"dataframe\">\n  <thead>\n    <tr style=\"text-align: right;\">\n      <th></th>\n      <th>image_id</th>\n      <th>labels</th>\n      <th>transcriptions</th>\n    </tr>\n  </thead>\n  <tbody>\n    <tr>\n      <th>0</th>\n      <td>888</td>\n      <td>0</td>\n      <td>\\nഈ ചാടി ഓടി നടക്കണ മനുഷ്യനാണോടാ നിങ്ങളിത്രേം ...</td>\n    </tr>\n    <tr>\n      <th>1</th>\n      <td>554</td>\n      <td>1</td>\n      <td>മലയാള സിനിമയുടെ ഭാവി വടറാണി ഇവൾ തന്നെ നല്ല കുഴ...</td>\n    </tr>\n    <tr>\n      <th>2</th>\n      <td>556</td>\n      <td>1</td>\n      <td>ഒന്ന് പെറ്റത് ആണെങ്കിലും .. മുലയും വയറും ചാടിയ...</td>\n    </tr>\n    <tr>\n      <th>3</th>\n      <td>484</td>\n      <td>1</td>\n      <td>ഓൺലൈൻ പരിചയപ്പെട്ടവനെ കളി തരാമെന്ന് പറഞ്ഞു അപ്...</td>\n    </tr>\n    <tr>\n      <th>4</th>\n      <td>370</td>\n      <td>0</td>\n      <td>കാമുകിയും അൺലിമിറ്റഡ് നെറ്റ് ഓഫറുംഉള്ള പയ്യന്റ...</td>\n    </tr>\n  </tbody>\n</table>\n</div>"
          },
          "metadata": {}
        }
      ],
      "execution_count": null
    },
    {
      "cell_type": "code",
      "source": [
        "import numpy as np\n",
        "import pandas as pd\n",
        "from sklearn.metrics import classification_report\n",
        "import torch\n",
        "from torch.utils.data import DataLoader, Dataset\n",
        "from transformers import AutoTokenizer, AutoModel, SwinModel, AutoImageProcessor, AdamW, get_scheduler\n",
        "from PIL import Image\n",
        "from tqdm import tqdm\n",
        "\n",
        "# Initialize tokenizer and model for Malayalam BERT\n",
        "text_tokenizer = AutoTokenizer.from_pretrained(\n",
        "    \"l3cube-pune/malayalam-bert\",\n",
        "    model_max_length=128,\n",
        "    use_fast=True\n",
        ")\n",
        "\n",
        "# Malayalam BERT model\n",
        "text_model = AutoModel.from_pretrained(\"l3cube-pune/malayalam-bert\")\n",
        "\n",
        "# Resize token embeddings to ensure alignment with tokenizer\n",
        "text_model.resize_token_embeddings(len(text_tokenizer))\n",
        "\n",
        "# Swin Transformer model and image processor\n",
        "vision_processor = AutoImageProcessor.from_pretrained(\"microsoft/swin-base-patch4-window7-224\")\n",
        "vision_model = SwinModel.from_pretrained(\"microsoft/swin-base-patch4-window7-224\")\n",
        "\n",
        "# Custom Dataset class\n",
        "class MemeDataset(Dataset):\n",
        "    def __init__(self, data, tokenizer, image_path, max_len=128, is_test=False):\n",
        "        self.texts = data['transcriptions'].fillna(\"\").values\n",
        "        self.image_ids = data['image_id'].values\n",
        "        self.tokenizer = tokenizer\n",
        "        self.image_path = image_path\n",
        "        self.max_len = max_len\n",
        "        self.is_test = is_test\n",
        "        if not is_test:\n",
        "            self.labels = data['labels'].values\n",
        "\n",
        "    def __len__(self):\n",
        "        return len(self.texts)\n",
        "\n",
        "    def __getitem__(self, idx):\n",
        "        text = str(self.texts[idx])\n",
        "        image_id = self.image_ids[idx]\n",
        "\n",
        "        # Tokenize text\n",
        "        encoding = self.tokenizer(\n",
        "            text,\n",
        "            add_special_tokens=True,\n",
        "            max_length=self.max_len,\n",
        "            padding='max_length',\n",
        "            truncation=True,\n",
        "            return_tensors=\"pt\"\n",
        "        )\n",
        "\n",
        "        # Load and preprocess image\n",
        "        image = Image.open(f\"{self.image_path}/{image_id}.jpg\").convert(\"RGB\")\n",
        "        image = vision_processor(images=image, return_tensors=\"pt\")[\"pixel_values\"].squeeze(0)\n",
        "\n",
        "        item = {\n",
        "            'input_ids': encoding['input_ids'].squeeze(0),\n",
        "            'attention_mask': encoding['attention_mask'].squeeze(0),\n",
        "            'image': image,\n",
        "        }\n",
        "\n",
        "        if not self.is_test:\n",
        "            item['label'] = torch.tensor(self.labels[idx], dtype=torch.long)\n",
        "\n",
        "        return item\n",
        "\n",
        "# Define multimodal model\n",
        "class MultimodalModel(torch.nn.Module):\n",
        "    def __init__(self):\n",
        "        super(MultimodalModel, self).__init__()\n",
        "\n",
        "        # Text encoder using Malayalam BERT\n",
        "        self.text_encoder = text_model\n",
        "\n",
        "        # Image encoder using Swin Transformer\n",
        "        self.image_encoder = vision_model\n",
        "\n",
        "        # Combined classifier\n",
        "        self.classifier = torch.nn.Sequential(\n",
        "            torch.nn.Linear(768 + 1024, 512),  # Malayalam BERT hidden size + Swin hidden size\n",
        "            torch.nn.ReLU(),\n",
        "            torch.nn.Dropout(0.1),\n",
        "            torch.nn.Linear(512, 2)\n",
        "        )\n",
        "\n",
        "    def forward(self, input_ids, attention_mask, image):\n",
        "        # Encode text\n",
        "        text_outputs = self.text_encoder(\n",
        "            input_ids=input_ids,\n",
        "            attention_mask=attention_mask,\n",
        "            return_dict=True\n",
        "        )\n",
        "        text_cls = text_outputs.last_hidden_state[:, 0, :]  # CLS token\n",
        "\n",
        "        # Encode image\n",
        "        image_outputs = self.image_encoder(pixel_values=image)\n",
        "        image_cls = image_outputs.last_hidden_state[:, 0, :]  # CLS token\n",
        "\n",
        "        # Concatenate features\n",
        "        combined_features = torch.cat((text_cls, image_cls), dim=1)\n",
        "\n",
        "        # Classify\n",
        "        outputs = self.classifier(combined_features)\n",
        "        return outputs\n",
        "\n",
        "\n",
        "# Define image directories\n",
        "train_image_dir = \"/kaggle/input/train-dataset/train\"\n",
        "eval_image_dir = \"/kaggle/input/eval-dataset/dev\"\n",
        "test_image_dir = \"/kaggle/input/test-with-labels/test_with_labels\"\n",
        "\n",
        "# Prepare datasets and data loaders\n",
        "train_dataset = MemeDataset(train_data, text_tokenizer, train_image_dir)\n",
        "eval_dataset = MemeDataset(eval_data, text_tokenizer, eval_image_dir)\n",
        "test_dataset = MemeDataset(test_labels, text_tokenizer, test_image_dir, is_test=False)\n",
        "\n",
        "train_loader = DataLoader(train_dataset, batch_size=16, shuffle=True)\n",
        "eval_loader = DataLoader(eval_dataset, batch_size=16, shuffle=False)\n",
        "test_loader = DataLoader(test_dataset, batch_size=16, shuffle=False)\n",
        "\n",
        "# Initialize model, optimizer, and scheduler\n",
        "model = MultimodalModel()\n",
        "optimizer = AdamW(model.parameters(), lr=5e-5)\n",
        "epochs = 5\n",
        "num_training_steps = epochs * len(train_loader)\n",
        "scheduler = get_scheduler(\"linear\", optimizer=optimizer, num_warmup_steps=0, num_training_steps=num_training_steps)\n",
        "\n",
        "# Training and evaluation functions\n",
        "def train(model, data_loader):\n",
        "    model.train()\n",
        "    total_loss = 0\n",
        "    correct = 0\n",
        "    total = 0\n",
        "\n",
        "    for batch in tqdm(data_loader, desc=\"Training\"):\n",
        "        optimizer.zero_grad()\n",
        "        input_ids = batch['input_ids']\n",
        "        attention_mask = batch['attention_mask']\n",
        "        images = batch['image']\n",
        "        labels = batch['label']\n",
        "\n",
        "        outputs = model(input_ids=input_ids, attention_mask=attention_mask, image=images)\n",
        "        loss_fn = torch.nn.CrossEntropyLoss()\n",
        "        loss = loss_fn(outputs, labels)\n",
        "\n",
        "        total_loss += loss.item()\n",
        "        loss.backward()\n",
        "        optimizer.step()\n",
        "        scheduler.step()\n",
        "\n",
        "        preds = torch.argmax(outputs, dim=1)\n",
        "        correct += (preds == labels).sum().item()\n",
        "        total += labels.size(0)\n",
        "\n",
        "    return total_loss / len(data_loader), correct / total\n",
        "\n",
        "def evaluate(model, data_loader):\n",
        "    model.eval()\n",
        "    total_loss = 0\n",
        "    correct = 0\n",
        "    total = 0\n",
        "    all_preds = []\n",
        "    all_labels = []\n",
        "\n",
        "    with torch.no_grad():\n",
        "        for batch in tqdm(data_loader, desc=\"Evaluation\"):\n",
        "            input_ids = batch['input_ids']\n",
        "            attention_mask = batch['attention_mask']\n",
        "            images = batch['image']\n",
        "            labels = batch['label']\n",
        "\n",
        "            outputs = model(input_ids=input_ids, attention_mask=attention_mask, image=images)\n",
        "            loss_fn = torch.nn.CrossEntropyLoss()\n",
        "            loss = loss_fn(outputs, labels)\n",
        "\n",
        "            total_loss += loss.item()\n",
        "            preds = torch.argmax(outputs, dim=1)\n",
        "            all_preds.extend(preds.cpu().numpy())\n",
        "            all_labels.extend(labels.cpu().numpy())\n",
        "\n",
        "            correct += (preds == labels).sum().item()\n",
        "            total += labels.size(0)\n",
        "\n",
        "    return total_loss / len(data_loader), correct / total, all_labels, all_preds\n",
        "\n",
        "def predict_test(model, test_loader):\n",
        "    model.eval()\n",
        "    all_preds = []\n",
        "\n",
        "    with torch.no_grad():\n",
        "        for batch in tqdm(test_loader, desc=\"Testing\"):\n",
        "            input_ids = batch['input_ids']\n",
        "            attention_mask = batch['attention_mask']\n",
        "            images = batch['image']\n",
        "\n",
        "            outputs = model(input_ids=input_ids, attention_mask=attention_mask, image=images)\n",
        "            preds = torch.argmax(outputs, dim=1)\n",
        "            all_preds.extend(preds.cpu().numpy())\n",
        "\n",
        "    return all_preds\n",
        "\n",
        "# Training loop\n",
        "print(\"Starting training...\")\n",
        "for epoch in range(epochs):\n",
        "    print(f\"\\nEpoch {epoch + 1}/{epochs}\")\n",
        "    train_loss, train_acc = train(model, train_loader)\n",
        "    eval_loss, eval_acc, _, _ = evaluate(model, eval_loader)\n",
        "\n",
        "    print(f\"Training Loss: {train_loss:.4f}, Training Accuracy: {train_acc:.4f}\")\n",
        "    print(f\"Validation Loss: {eval_loss:.4f}, Validation Accuracy: {eval_acc:.4f}\")\n",
        "\n",
        "# Final evaluation\n",
        "print(\"\\nFinal Evaluation:\")\n",
        "_, _, all_labels, all_preds = evaluate(model, test_loader)\n",
        "print(\"\\nClassification Report:\")\n",
        "print(classification_report(all_labels, all_preds, target_names=['Non-Misogyny', 'Misogyny']))"
      ],
      "metadata": {
        "trusted": true,
        "execution": {
          "iopub.status.busy": "2025-01-29T08:44:49.476036Z",
          "iopub.execute_input": "2025-01-29T08:44:49.476424Z",
          "iopub.status.idle": "2025-01-29T09:42:14.734979Z",
          "shell.execute_reply.started": "2025-01-29T08:44:49.476355Z",
          "shell.execute_reply": "2025-01-29T09:42:14.73418Z"
        },
        "id": "M2rdNBnvCxhd",
        "outputId": "ea2fb970-a4d5-46d9-fcab-39038d2c5270"
      },
      "outputs": [
        {
          "name": "stderr",
          "text": "Some weights of BertModel were not initialized from the model checkpoint at l3cube-pune/malayalam-bert and are newly initialized: ['bert.pooler.dense.bias', 'bert.pooler.dense.weight']\nYou should probably TRAIN this model on a down-stream task to be able to use it for predictions and inference.\n/usr/local/lib/python3.10/dist-packages/transformers/optimization.py:591: FutureWarning: This implementation of AdamW is deprecated and will be removed in a future version. Use the PyTorch implementation torch.optim.AdamW instead, or set `no_deprecation_warning=True` to disable this warning\n  warnings.warn(\n",
          "output_type": "stream"
        },
        {
          "name": "stdout",
          "text": "Starting training...\n\nEpoch 1/5\n",
          "output_type": "stream"
        },
        {
          "name": "stderr",
          "text": "Training: 100%|██████████| 40/40 [10:36<00:00, 15.91s/it]\nEvaluation: 100%|██████████| 10/10 [00:51<00:00,  5.18s/it]\n",
          "output_type": "stream"
        },
        {
          "name": "stdout",
          "text": "Training Loss: 0.5645, Training Accuracy: 0.7156\nValidation Loss: 0.5006, Validation Accuracy: 0.7438\n\nEpoch 2/5\n",
          "output_type": "stream"
        },
        {
          "name": "stderr",
          "text": "Training: 100%|██████████| 40/40 [10:20<00:00, 15.50s/it]\nEvaluation: 100%|██████████| 10/10 [00:52<00:00,  5.28s/it]\n",
          "output_type": "stream"
        },
        {
          "name": "stdout",
          "text": "Training Loss: 0.2429, Training Accuracy: 0.9000\nValidation Loss: 0.3708, Validation Accuracy: 0.8500\n\nEpoch 3/5\n",
          "output_type": "stream"
        },
        {
          "name": "stderr",
          "text": "Training: 100%|██████████| 40/40 [10:25<00:00, 15.65s/it]\nEvaluation: 100%|██████████| 10/10 [00:50<00:00,  5.09s/it]\n",
          "output_type": "stream"
        },
        {
          "name": "stdout",
          "text": "Training Loss: 0.1244, Training Accuracy: 0.9625\nValidation Loss: 0.4839, Validation Accuracy: 0.8375\n\nEpoch 4/5\n",
          "output_type": "stream"
        },
        {
          "name": "stderr",
          "text": "Training: 100%|██████████| 40/40 [10:19<00:00, 15.50s/it]\nEvaluation: 100%|██████████| 10/10 [00:50<00:00,  5.07s/it]\n",
          "output_type": "stream"
        },
        {
          "name": "stdout",
          "text": "Training Loss: 0.0682, Training Accuracy: 0.9781\nValidation Loss: 0.4464, Validation Accuracy: 0.8625\n\nEpoch 5/5\n",
          "output_type": "stream"
        },
        {
          "name": "stderr",
          "text": "Training: 100%|██████████| 40/40 [10:20<00:00, 15.50s/it]\nEvaluation: 100%|██████████| 10/10 [00:51<00:00,  5.12s/it]\n",
          "output_type": "stream"
        },
        {
          "name": "stdout",
          "text": "Training Loss: 0.0408, Training Accuracy: 0.9953\nValidation Loss: 0.4353, Validation Accuracy: 0.8562\n\nFinal Evaluation:\n",
          "output_type": "stream"
        },
        {
          "name": "stderr",
          "text": "Evaluation: 100%|██████████| 13/13 [01:04<00:00,  4.95s/it]",
          "output_type": "stream"
        },
        {
          "name": "stdout",
          "text": "\nClassification Report:\n              precision    recall  f1-score   support\n\nNon-Misogyny       0.87      0.93      0.90       122\n    Misogyny       0.87      0.78      0.82        78\n\n    accuracy                           0.87       200\n   macro avg       0.87      0.85      0.86       200\nweighted avg       0.87      0.87      0.87       200\n\n",
          "output_type": "stream"
        },
        {
          "name": "stderr",
          "text": "\n",
          "output_type": "stream"
        }
      ],
      "execution_count": null
    },
    {
      "cell_type": "code",
      "source": [
        "import matplotlib.pyplot as plt\n",
        "import seaborn as sns\n",
        "from sklearn.metrics import confusion_matrix, ConfusionMatrixDisplay\n",
        "\n",
        "# Generate the confusion matrix\n",
        "conf_matrix = confusion_matrix(all_labels, all_preds)\n",
        "\n",
        "# Define class names for better readability\n",
        "class_names = ['Non-Misogyny', 'Misogyny']\n",
        "\n",
        "# Plot confusion matrix using seaborn heatmap\n",
        "plt.figure(figsize=(8, 6))\n",
        "sns.heatmap(conf_matrix, annot=True, fmt='d', cmap='Blues', xticklabels=class_names, yticklabels=class_names)\n",
        "plt.xlabel('Predicted Labels')\n",
        "plt.ylabel('True Labels')\n",
        "plt.title('Confusion Matrix')\n",
        "plt.show()\n"
      ],
      "metadata": {
        "trusted": true,
        "execution": {
          "iopub.status.busy": "2025-01-29T09:46:09.812597Z",
          "iopub.execute_input": "2025-01-29T09:46:09.813069Z",
          "iopub.status.idle": "2025-01-29T09:46:10.717929Z",
          "shell.execute_reply.started": "2025-01-29T09:46:09.813023Z",
          "shell.execute_reply": "2025-01-29T09:46:10.717026Z"
        },
        "id": "Ojrr1RrKCxhe",
        "outputId": "179e26d6-9e10-4020-97f6-31b332a5f70c"
      },
      "outputs": [
        {
          "output_type": "display_data",
          "data": {
            "text/plain": "<Figure size 800x600 with 2 Axes>",
            "image/png": "[encoded data removed]"
          },
          "metadata": {}
        }
      ],
      "execution_count": null
    },
    {
      "cell_type": "code",
      "source": [
        "from torch.utils.data import DataLoader, Dataset\n",
        "from transformers import AutoTokenizer, AutoImageProcessor\n",
        "from PIL import Image\n",
        "from tqdm import tqdm\n",
        "import os\n",
        "import torch\n",
        "import pandas as pd\n",
        "\n",
        "# Initialize tokenizer and vision processor\n",
        "text_tokenizer = AutoTokenizer.from_pretrained(\n",
        "    \"l3cube-pune/malayalam-bert\",\n",
        "    model_max_length=128,\n",
        "    use_fast=True\n",
        ")\n",
        "\n",
        "vision_processor = AutoImageProcessor.from_pretrained(\"microsoft/swin-base-patch4-window7-224\")\n",
        "\n",
        "class MemeDataset(Dataset):\n",
        "    def __init__(self, data, tokenizer, image_path, vision_processor, max_len=128, is_test=False):\n",
        "        self.texts = data['transcriptions'].fillna(\"\").values\n",
        "        self.image_ids = data['image_id'].values\n",
        "        self.tokenizer = tokenizer\n",
        "        self.image_path = image_path\n",
        "        self.vision_processor = vision_processor\n",
        "        self.max_len = max_len\n",
        "        self.is_test = is_test\n",
        "        if not is_test:\n",
        "            self.labels = data['labels'].values\n",
        "\n",
        "    def __len__(self):\n",
        "        return len(self.texts)\n",
        "\n",
        "    def __getitem__(self, idx):\n",
        "        text = str(self.texts[idx])\n",
        "        image_id = self.image_ids[idx]\n",
        "\n",
        "        # Tokenize text\n",
        "        encoding = self.tokenizer(\n",
        "            text,\n",
        "            add_special_tokens=True,\n",
        "            max_length=self.max_len,\n",
        "            padding='max_length',\n",
        "            truncation=True,\n",
        "            return_tensors=\"pt\"\n",
        "        )\n",
        "\n",
        "        # Load and process image\n",
        "        image_path = os.path.join(self.image_path, f\"{image_id}.jpg\")\n",
        "        if not os.path.exists(image_path):\n",
        "            raise FileNotFoundError(f\"Image file {image_path} not found.\")\n",
        "\n",
        "        image = Image.open(image_path).convert(\"RGB\")\n",
        "        image_processed = self.vision_processor(\n",
        "            images=image,\n",
        "            return_tensors=\"pt\"\n",
        "        )[\"pixel_values\"].squeeze(0)\n",
        "\n",
        "        item = {\n",
        "            'input_ids': encoding['input_ids'].squeeze(0),\n",
        "            'attention_mask': encoding['attention_mask'].squeeze(0),\n",
        "            'image': image_processed,\n",
        "            'image_id': image_id,  # Add image_id to the item\n",
        "            'transcriptions': text  # Add transcriptions to the item for later use\n",
        "        }\n",
        "\n",
        "        if not self.is_test:\n",
        "            item['label'] = torch.tensor(self.labels[idx], dtype=torch.long)\n",
        "\n",
        "        return item\n",
        "\n",
        "def predict_test_with_actuals(model, test_loader):\n",
        "    model.eval()\n",
        "    all_preds = []\n",
        "    all_actuals = []\n",
        "    all_image_ids = []\n",
        "    all_transcriptions = []\n",
        "\n",
        "    with torch.no_grad():\n",
        "        for batch in tqdm(test_loader, desc=\"Testing\"):\n",
        "            # Get batch size for current batch\n",
        "            batch_size = batch['input_ids'].size(0)\n",
        "\n",
        "            # Forward pass\n",
        "            outputs = model(\n",
        "                input_ids=batch['input_ids'],\n",
        "                attention_mask=batch['attention_mask'],\n",
        "                image=batch['image']\n",
        "            )\n",
        "\n",
        "            preds = torch.argmax(outputs, dim=1)\n",
        "            all_preds.extend(preds.cpu().numpy())\n",
        "\n",
        "            # If not in test mode, get the true labels as well\n",
        "            if 'label' in batch:\n",
        "                actuals = batch['label'].cpu().numpy()\n",
        "                all_actuals.extend(actuals)\n",
        "\n",
        "            # Convert image_ids to list if they're tensors\n",
        "            if isinstance(batch['image_id'], torch.Tensor):\n",
        "                batch_image_ids = batch['image_id'].cpu().numpy().tolist()\n",
        "            else:\n",
        "                batch_image_ids = batch['image_id']\n",
        "\n",
        "            all_image_ids.extend(batch_image_ids)\n",
        "\n",
        "            # Make sure transcriptions is a list\n",
        "            if isinstance(batch['transcriptions'], str):\n",
        "                batch_transcriptions = [batch['transcriptions']]\n",
        "            else:\n",
        "                batch_transcriptions = batch['transcriptions']\n",
        "            all_transcriptions.extend(batch_transcriptions[:batch_size])\n",
        "\n",
        "    # Verify all lists have the same length\n",
        "    lengths = [\n",
        "        len(all_preds),\n",
        "        len(all_actuals) if all_actuals else len(all_preds),\n",
        "        len(all_image_ids),\n",
        "        len(all_transcriptions)\n",
        "    ]\n",
        "\n",
        "    if len(set(lengths)) > 1:\n",
        "        print(f\"Warning: Unequal lengths detected: {lengths}\")\n",
        "        # Trim to shortest length\n",
        "        min_length = min(lengths)\n",
        "        all_preds = all_preds[:min_length]\n",
        "        if all_actuals:\n",
        "            all_actuals = all_actuals[:min_length]\n",
        "        all_image_ids = all_image_ids[:min_length]\n",
        "        all_transcriptions = all_transcriptions[:min_length]\n",
        "\n",
        "    return all_image_ids, all_transcriptions, all_actuals, all_preds\n",
        "\n",
        "\n",
        "# Generate predictions and actuals\n",
        "print(\"Generating predictions for test data...\")\n",
        "image_ids, transcriptions, true_labels, test_predictions = predict_test_with_actuals(model, test_loader)\n",
        "\n",
        "\n",
        "# Create DataFrame safely\n",
        "data_dict = {\n",
        "    'image_id': image_ids,\n",
        "    'transcription': transcriptions,\n",
        "    'predicted_label': test_predictions\n",
        "}\n",
        "\n",
        "# Only add actual_labels if they exist\n",
        "if true_labels:\n",
        "    data_dict['actual_label'] = true_labels\n",
        "\n",
        "# Create DataFrame\n",
        "comparison_df = pd.DataFrame(data_dict)\n",
        "\n",
        "# Display a few examples of actual vs predicted values\n",
        "print(\"\\nSome example predictions vs actuals:\")\n",
        "print(comparison_df.head(10))  # Show first 10 examples\n",
        "\n",
        "\n",
        ""
      ],
      "metadata": {
        "trusted": true,
        "execution": {
          "iopub.status.busy": "2025-01-29T10:19:58.941878Z",
          "iopub.execute_input": "2025-01-29T10:19:58.942201Z",
          "iopub.status.idle": "2025-01-29T10:21:03.397311Z",
          "shell.execute_reply.started": "2025-01-29T10:19:58.942175Z",
          "shell.execute_reply": "2025-01-29T10:21:03.396238Z"
        },
        "id": "GpSjZj3gCxhe",
        "outputId": "44b86e29-4149-49d8-9113-eabfec1f2ced"
      },
      "outputs": [
        {
          "name": "stdout",
          "text": "Generating predictions for test data...\n",
          "output_type": "stream"
        },
        {
          "name": "stderr",
          "text": "Testing: 100%|██████████| 13/13 [01:03<00:00,  4.91s/it]",
          "output_type": "stream"
        },
        {
          "name": "stdout",
          "text": "\nSome example predictions vs actuals:\n   image_id                                      transcription  \\\n0       954    ഇതിന് മാത്രം പിള്ളാരെ ഇവർക്കെങ്ങനെ cilşma??....   \n1       239  ഇത് ഞാൻ ചെറുതായിരുന്നപ്പോൾ ഇത് 5ആം ക്ലാസ്സ് വര...   \n2        61  എന്തൊക്കെ ആകിയിട്ടും ഒരു മെന വരുന്നില്ലലോ നിഖി...   \n3       984  ഇഞ്ചുറിക്കു ശേഷം ഇന്റർനാഷണൽ ഫുട്ബോൾലേക്കു തിരി...   \n4       774  * ഡോക്ടർ\\nകണ്ണൻ സഹാവ്\\nയ്യോ.. ഒരു equipment ഉള...   \n5       427  നിന്റെ കാമുകി പുറത്ത് പോയതുകൊണ്ട് നീ വിഷമിക്കേ...   \n6       960  MUN-SHU കളിയിൽ *Haters *Harry Maquire 1 Harry ...   \n7       387  www\\nAnju jr\\nTODAY\\nHi Chetta\\n01:02 PM\\nAthe...   \n8       520  ഒരു ഫ്രിഡ്ജ് ഉണ്ടായിരുന്നെങ്കിൽ ഇടയ്ക്ക് ഇടയ്ക...   \n9       563  തന്റെ നാല്പതാമത്തെ വയസ്സിലും ബിക്കിനി ഇട്ട് കമ...   \n\n   predicted_label  \n0                0  \n1                0  \n2                1  \n3                0  \n4                0  \n5                1  \n6                0  \n7                0  \n8                0  \n9                1  \n",
          "output_type": "stream"
        },
        {
          "name": "stderr",
          "text": "\n",
          "output_type": "stream"
        }
      ],
      "execution_count": null
    }
  ]
}